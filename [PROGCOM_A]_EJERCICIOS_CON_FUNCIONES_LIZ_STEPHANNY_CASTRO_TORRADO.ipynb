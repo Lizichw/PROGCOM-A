{
  "nbformat": 4,
  "nbformat_minor": 0,
  "metadata": {
    "colab": {
      "provenance": []
    },
    "kernelspec": {
      "name": "python3",
      "display_name": "Python 3"
    },
    "language_info": {
      "name": "python"
    }
  },
  "cells": [
    {
      "cell_type": "code",
      "execution_count": 15,
      "metadata": {
        "id": "4OZHoon8GZVs"
      },
      "outputs": [],
      "source": [
        "#Cree un programa que resuelva una ecuación cuadrática (ax² + bx + c = 0) pidiendo los valores de a, b y c\n",
        "def formula():\n",
        "  a=float(input(\"Ingrese el valor de a: \"))\n",
        "  b=float(input(\"Ingrese el valor de b: \"))\n",
        "  c=float(input(\"Ingrese el valor de c: \"))\n",
        "  print(f\"La ecuación es: {a}x²+{b}x+{c}=0 \")\n",
        "  print(f\"El resultado a la ecuación es: {(-b+(b**2-4*a*c)**1/2)/(2*a)} y {(-b-(b**2-4*a*c)**1/2)/(2*a)}\")"
      ]
    },
    {
      "cell_type": "code",
      "source": [
        "formula()"
      ],
      "metadata": {
        "colab": {
          "base_uri": "https://localhost:8080/"
        },
        "id": "SrwyIQShINL2",
        "outputId": "bb6b0fa8-b033-4018-8206-d0279fd0b58c"
      },
      "execution_count": 16,
      "outputs": [
        {
          "output_type": "stream",
          "name": "stdout",
          "text": [
            "Ingrese el valor de a: 2\n",
            "Ingrese el valor de b: 3\n",
            "Ingrese el valor de c: 4\n",
            "La ecuación es: 2.0x²+3.0x+4.0=0 \n",
            "El resultado a la ecuación es: -3.625 y 2.125\n"
          ]
        }
      ]
    },
    {
      "cell_type": "code",
      "source": [
        "#Desarrolle un programa que determine si un número es par o impar\n",
        "def numero():\n",
        "  num=int(input(\"Ingrese un número: \"))\n",
        "  if num%2==0:\n",
        "    print(f\"{num} es un número par \")\n",
        "  else:\n",
        "    print(f\"{num} es un número impar \")"
      ],
      "metadata": {
        "id": "hCk7pwZcI-Lm"
      },
      "execution_count": 17,
      "outputs": []
    },
    {
      "cell_type": "code",
      "source": [
        "numero()"
      ],
      "metadata": {
        "colab": {
          "base_uri": "https://localhost:8080/"
        },
        "id": "mrcQOWXZJMl9",
        "outputId": "049cc3c5-910d-4851-c9a3-c88f21149c8d"
      },
      "execution_count": 19,
      "outputs": [
        {
          "output_type": "stream",
          "name": "stdout",
          "text": [
            "Ingrese un número: 9\n",
            "9 es un número impar \n"
          ]
        }
      ]
    },
    {
      "cell_type": "code",
      "source": [
        "#CreE un programa que determine si un año es bisiesto\n",
        "def año ():\n",
        "  año=int(input(\"Ingrese el año: \"))\n",
        "  print(f\"{año} es un año bisiesto\") if año%4==0 and año%100!=0 else print(f\"{año} no es un año bisiesto \")"
      ],
      "metadata": {
        "id": "VUOr08VcJTLd"
      },
      "execution_count": 20,
      "outputs": []
    },
    {
      "cell_type": "code",
      "source": [
        "año()"
      ],
      "metadata": {
        "colab": {
          "base_uri": "https://localhost:8080/"
        },
        "id": "DQtDZIS0Jf_l",
        "outputId": "00c72ea1-8f63-4430-c6d5-dc2a804a9c4b"
      },
      "execution_count": 21,
      "outputs": [
        {
          "output_type": "stream",
          "name": "stdout",
          "text": [
            "Ingrese el año: 2024\n",
            "2024 es un año bisiesto\n"
          ]
        }
      ]
    },
    {
      "cell_type": "code",
      "source": [
        "#Escribe un programa que solicite el nombre del usuario y determine si una persona pertenece a la tercera edad (70 años o más) y si se cumple la condición, imprima que se le da prioridad en la fila\n",
        "def Personita():\n",
        "  nam=input(\"Ingrese su nombre: \")\n",
        "  e=int(input(\"Ingrese su edad: \"))\n",
        "  if e>=70:\n",
        "    print(f\"{nam}, se encuentra en el rango de preferencia en fila, continúe \")\n",
        "  else:\n",
        "    print(f\"{nam}, no se encuntra en el rango de preferencia en la fila. Continpue en espera \")"
      ],
      "metadata": {
        "id": "M6N5UNcnJltO"
      },
      "execution_count": 22,
      "outputs": []
    },
    {
      "cell_type": "code",
      "source": [
        "Personita()"
      ],
      "metadata": {
        "colab": {
          "base_uri": "https://localhost:8080/"
        },
        "id": "L3WNfAXiJmot",
        "outputId": "d8666bba-ac71-4829-c8fb-3892f9d02b11"
      },
      "execution_count": 23,
      "outputs": [
        {
          "output_type": "stream",
          "name": "stdout",
          "text": [
            "Ingrese su nombre: Liz\n",
            "Ingrese su edad: 18\n",
            "Liz, no se encuntra en el rango de preferencia en la fila. Continpue en espera \n"
          ]
        }
      ]
    },
    {
      "cell_type": "code",
      "source": [
        "#Desarrolla un programa que compare tres números y muestre el mayor.\n",
        "def numeros(num1,num2,num3):\n",
        "  num1=float(input(\"Ingrese el primer número:\"))\n",
        "  num2=float(input(\"Ingrese el segundo número:\"))\n",
        "  num3=float(input(\"Ingrese el tercer número: \"))\n",
        "  print(f\"El número mayor es: {num1}\") if num1>num2 and num2>num3 else print(f\"el número mayor es: {num2}\") if num2>num1 and num2>num3 else print(f\"el número mayor es: {num3}\")"
      ],
      "metadata": {
        "id": "apnpGdHJJ4ee"
      },
      "execution_count": null,
      "outputs": []
    },
    {
      "cell_type": "code",
      "source": [],
      "metadata": {
        "id": "B9VEtL-iJ4Rv"
      },
      "execution_count": 30,
      "outputs": []
    },
    {
      "cell_type": "code",
      "source": [
        "#Cree un programa que determine si un triángulo es equilátero, isósceles o escaleno según sus lados\n",
        "def triangulo():\n",
        "  la1=float(input(\"Ingrese el primer lado del triángulo: \"))\n",
        "  la2=float(input(\"Ingrese el segundo lado del triángulo: \"))\n",
        "  la3=float(input(\"Ingrese el tercer lado del triángulo: \"))\n",
        "  if la1==la2 and la2==la3:\n",
        "    print(\"el triángulo es equilátero \")\n",
        "  else:\n",
        "    if la1==la2 or la2==la3 or la1==la3:\n",
        "        print(\"El triángulo es isósceles \")\n",
        "    else:\n",
        "      print(\"El triángulo es escaleno  3\")"
      ],
      "metadata": {
        "id": "YBx2z91hJ7JW"
      },
      "execution_count": 25,
      "outputs": []
    },
    {
      "cell_type": "code",
      "source": [
        "triangulo()"
      ],
      "metadata": {
        "colab": {
          "base_uri": "https://localhost:8080/"
        },
        "id": "zP29nqBGJ7BV",
        "outputId": "35773904-2b3b-45d0-c679-729331c26a96"
      },
      "execution_count": 29,
      "outputs": [
        {
          "output_type": "stream",
          "name": "stdout",
          "text": [
            "Ingrese el primer lado del triángulo: 8\n",
            "Ingrese el segundo lado del triángulo: 5\n",
            "Ingrese el tercer lado del triángulo: 8\n",
            "El triángulo es isósceles \n"
          ]
        }
      ]
    },
    {
      "cell_type": "code",
      "source": [
        "#Escribe un programa que calcule el índice de masa corporal (IMC) y determine la categoría (bajo peso, normal, sobrepeso, obesidad). Al final, el programa debe imprimir: el nombre del usuario, su categoría y una breve descripción de lo que debe hacer de acuerdo a su categoría.\n",
        "def saludo():\n",
        "  nom= input(\"Ingrese su nombre: \")\n",
        "  pe= float(input(\"Ingrese su peso en kg: \"))\n",
        "  est= float(input(\"Ingrese su estatura : \"))\n",
        "\n",
        "  IMC= pe/(est**2)\n",
        "\n",
        "  ca= [\"bajo peso\", \"normal\", \"sobrepeso\", \"obesidad\"]\n",
        "  ra= [18.5, 24.9, 29.9, float('inf')]\n",
        "\n",
        "  for i in range(len(ca)):\n",
        "    if IMC < ra[i]:\n",
        "      ca = ca[i]\n",
        "      break\n",
        "\n",
        "  des = {\"bajo peso\": \"Si su IMC es notifica un peso bajo al promedio, debe recurrir con un especialista en nutrición para poder ganar masa y mantener un peso estable. \", \"normal\": \"  Su IMC marca un peso general promedio .\", \"sobrepeso\": \"Su IMC se encuentra algo alejado de la media,  se le recomienda iniciar un proceso nutricional y físico para evitar problemas en su salud .\", \"obesidad\": \"La salud es el elemento más importante para una vida estable, su IMC marca un índice elevado al peso promedio. Lo más recomendable para usted es que acuda con un especialista en salud nutricional y en sapecto físico. \"}\n",
        "\n",
        "  print(f\"{nom}, su IMC es de {IMC}, está en la categoria: {ca}.\")\n",
        "  print(des[ca])\n"
      ],
      "metadata": {
        "id": "i_QC2XNbL0dj"
      },
      "execution_count": 31,
      "outputs": []
    },
    {
      "cell_type": "code",
      "source": [
        "saludo()"
      ],
      "metadata": {
        "colab": {
          "base_uri": "https://localhost:8080/"
        },
        "id": "DvFGkKdSL0az",
        "outputId": "beb4d07d-3c7b-48dc-c236-09c65c5bc39d"
      },
      "execution_count": 32,
      "outputs": [
        {
          "output_type": "stream",
          "name": "stdout",
          "text": [
            "Ingrese su nombre: Liz\n",
            "Ingrese su peso en kg: 78\n",
            "Ingrese su estatura : 1.75\n",
            "Liz, su IMC es de 25.46938775510204, está en la categoria: sobrepeso.\n",
            "Su IMC se encuentra algo alejado de la media,  se le recomienda iniciar un proceso nutricional y físico para evitar problemas en su salud .\n"
          ]
        }
      ]
    },
    {
      "cell_type": "code",
      "source": [
        "#Desarrolla un programa que simule una calculadora simple (+, -, *, /) con dos números.\n",
        "def programa():\n",
        "  num1= float(input(\"Ingrese el primer numero: \"))\n",
        "  num2= float(input(\"Ingrese el segundo numero: \"))\n",
        "\n",
        "  op= [\"suma\", \"resta\", \"multiplicacion\", \"division\"]\n",
        "\n",
        "  for i in range(len(op)):\n",
        "    if i == 0:\n",
        "      print(f\"{num1} + {num2} = {num1+num2}\")\n",
        "    elif i == 1:\n",
        "      print(f\"{num1} - {num2} = {num1-num2}\")\n",
        "    elif i == 2:\n",
        "     print(f\"{num1} * {num2} = {num1*num2}\")\n",
        "    else:\n",
        "      print(f\"{num1} / {num2} = {num1/num2}\")"
      ],
      "metadata": {
        "id": "0OwVjMMXMiUK"
      },
      "execution_count": 33,
      "outputs": []
    },
    {
      "cell_type": "code",
      "source": [
        "programa()"
      ],
      "metadata": {
        "colab": {
          "base_uri": "https://localhost:8080/"
        },
        "id": "n2QLfXcHMiN0",
        "outputId": "af44a591-de95-4ecb-fc6f-78a714643237"
      },
      "execution_count": 34,
      "outputs": [
        {
          "output_type": "stream",
          "name": "stdout",
          "text": [
            "Ingrese el primer numero: 8\n",
            "Ingrese el segundo numero: 5\n",
            "8.0 + 5.0 = 13.0\n",
            "8.0 - 5.0 = 3.0\n",
            "8.0 * 5.0 = 40.0\n",
            "8.0 / 5.0 = 1.6\n"
          ]
        }
      ]
    },
    {
      "cell_type": "code",
      "source": [
        "#Crea un programa que determine la calificación en letras (A, B, C, D, F) según una nota numérica (0-100).\n",
        "def calificación():\n",
        "  no= int(input(\"Ingrese su nota(0-100): \"))\n",
        "\n",
        "  cal= [\"A\", \"B\", \"C\", \"D\", \"F\"]\n",
        "  ra= [80, 70, 50, 20, 0]\n",
        "\n",
        "  for i in range(len(cal)):\n",
        "    if no>= ra[i]:\n",
        "      calificación = cal[i]\n",
        "      break\n",
        "\n",
        "  print(f\"Su calificación es: {calificación}\")"
      ],
      "metadata": {
        "id": "4B7nu8bFNFVi"
      },
      "execution_count": 37,
      "outputs": []
    },
    {
      "cell_type": "code",
      "source": [
        "calificación()"
      ],
      "metadata": {
        "colab": {
          "base_uri": "https://localhost:8080/"
        },
        "id": "osIvMRMpNFS7",
        "outputId": "9657622a-1d45-47be-ea61-dd20ea70d777"
      },
      "execution_count": 38,
      "outputs": [
        {
          "output_type": "stream",
          "name": "stdout",
          "text": [
            "Ingrese su nota(0-100): 58\n",
            "Su calificación es: C\n"
          ]
        }
      ]
    },
    {
      "cell_type": "code",
      "source": [
        "#Escribe un programa que determine el día de la semana según un número (1-7).\n",
        "def semana():\n",
        "  num= int(input(\"Ingrese un numero del 1 al 7: \"))\n",
        "\n",
        "  di= [\"Lunes \", \"Martes\", \"Miercoles\", \"Jueves\", \"Viernes \", \"Sábado \", \"Domingo \"]\n",
        "  i= 0\n",
        "  if num>=0 and num<=6:\n",
        "    print(f\"El número que seleccionó le pertenece al día: {di[num-1]}\")\n",
        "  else:\n",
        "    print(f\"El número de la semana que usted eligió no se encuentra habilitado\")\n",
        "\n",
        ""
      ],
      "metadata": {
        "id": "JC1K8kqTNUXy"
      },
      "execution_count": 78,
      "outputs": []
    },
    {
      "cell_type": "code",
      "source": [
        "semana()"
      ],
      "metadata": {
        "colab": {
          "base_uri": "https://localhost:8080/"
        },
        "id": "yaLhicZbNUVx",
        "outputId": "d16234ee-2338-4655-cedd-2eca18b1d090"
      },
      "execution_count": 79,
      "outputs": [
        {
          "output_type": "stream",
          "name": "stdout",
          "text": [
            "Ingrese un numero del 1 al 7: 2\n",
            "El número que seleccionó le pertenece al día: Martes\n"
          ]
        }
      ]
    },
    {
      "cell_type": "code",
      "source": [
        "def forma():\n",
        "  num1= int(input(\"Ingrese el primer numero: \"))\n",
        "  num2= int(input(\"Ingrese el segundo numero: \"))\n",
        "  num3= int(input(\"Ingrese el tercer numero: \"))\n",
        "\n",
        "  triangulos= [\"Equilatero\", \"Isosceles\", \"Escaleno\"]\n",
        "\n",
        "  if num1+ num2 > num3 and num1+ num3 > num2 and num2+ num3 > num1:\n",
        "    for i in range(len(triangulos)):\n",
        "      if num1 == num2 == num3:\n",
        "        triangulo = triangulos[0]\n",
        "      elif num1 == num2 or num1 == num3 or num2 == num3:\n",
        "        triangulo = triangulos[1]\n",
        "      else:\n",
        "        triangulo = triangulos[2]\n",
        "    print(f\" Los número elegido forman el triángulo : {triangulo}\")\n",
        "\n",
        "  else:\n",
        "    print(f\"Los números elegidos no logran formar un triángulo. Inténtelo nuevamente. \")"
      ],
      "metadata": {
        "id": "OVK2JdXgOBKC"
      },
      "execution_count": 59,
      "outputs": []
    },
    {
      "cell_type": "code",
      "source": [
        "forma()"
      ],
      "metadata": {
        "colab": {
          "base_uri": "https://localhost:8080/"
        },
        "id": "JQzKgt1SOSDj",
        "outputId": "dd2400ba-78e8-4302-89be-009b8c1d6cd0"
      },
      "execution_count": 61,
      "outputs": [
        {
          "output_type": "stream",
          "name": "stdout",
          "text": [
            "Ingrese el primer numero: 2\n",
            "Ingrese el segundo numero: 2\n",
            "Ingrese el tercer numero: 2\n",
            " Los número elegido forman el triángulo : Equilatero\n"
          ]
        }
      ]
    },
    {
      "cell_type": "code",
      "source": [
        "#Crea un programa que muestre la tabla de multiplicar de un número hasta el 10.\n",
        "def tablas():\n",
        "  a=int(input(\"Ingrese un número. \"))\n",
        "  for num in range(1,11):\n",
        "    print(f\"{a}*{num}={a*num}\")"
      ],
      "metadata": {
        "id": "A-Euy5GAOSgb"
      },
      "execution_count": 63,
      "outputs": []
    },
    {
      "cell_type": "code",
      "source": [
        "tablas()"
      ],
      "metadata": {
        "colab": {
          "base_uri": "https://localhost:8080/"
        },
        "id": "63ZJekr2OSRy",
        "outputId": "351d6900-653d-441b-d11f-eee7acdd75a8"
      },
      "execution_count": 64,
      "outputs": [
        {
          "output_type": "stream",
          "name": "stdout",
          "text": [
            "Ingrese un número. 2\n",
            "2*1=2\n",
            "2*2=4\n",
            "2*3=6\n",
            "2*4=8\n",
            "2*5=10\n",
            "2*6=12\n",
            "2*7=14\n",
            "2*8=16\n",
            "2*9=18\n",
            "2*10=20\n"
          ]
        }
      ]
    },
    {
      "cell_type": "code",
      "source": [
        "#Escribe un programa que calcule la suma de números naturales hasta n.\n",
        "def sumas():\n",
        "  número = int(input(\"Ingrese un número: \"))\n",
        "  s = 0\n",
        "\n",
        "  for i in range(1, número + 1):\n",
        "     s = s + i\n",
        "\n",
        "  print(f\"La suma de los números naturales desde 1 hasta {número} es: {s}\")"
      ],
      "metadata": {
        "id": "cRpmgit3OV-5"
      },
      "execution_count": 66,
      "outputs": []
    },
    {
      "cell_type": "code",
      "source": [
        "sumas()"
      ],
      "metadata": {
        "colab": {
          "base_uri": "https://localhost:8080/"
        },
        "id": "Mx59-Pj5OV6o",
        "outputId": "5d1d3869-4602-4f05-d60b-1f5c5f2986d6"
      },
      "execution_count": 68,
      "outputs": [
        {
          "output_type": "stream",
          "name": "stdout",
          "text": [
            "Ingrese un número: 3\n",
            "La suma de los números naturales desde 1 hasta 3 es: 6\n"
          ]
        }
      ]
    },
    {
      "cell_type": "code",
      "source": [
        "#Crea un programa que muestre los primeros n números de la serie Fibonacci.\n",
        "def Fibanoci():\n",
        "  n= int(input(\"Ingrese los números de la serie Fibonacci que desee ver: \"))\n",
        "  a, b = 0, 1\n",
        "\n",
        "  for i in range(n):\n",
        "    print(a)\n",
        "    a, b = b, a + b"
      ],
      "metadata": {
        "id": "kWKWqRM_OYXK"
      },
      "execution_count": 69,
      "outputs": []
    },
    {
      "cell_type": "code",
      "source": [
        "Fibanoci()"
      ],
      "metadata": {
        "colab": {
          "base_uri": "https://localhost:8080/"
        },
        "id": "HpvpGizmOYVA",
        "outputId": "896962a9-9eed-4f33-ffb1-984b33da26eb"
      },
      "execution_count": 71,
      "outputs": [
        {
          "output_type": "stream",
          "name": "stdout",
          "text": [
            "Ingrese los números de la serie Fibonacci que desee ver: 90\n",
            "0\n",
            "1\n",
            "1\n",
            "2\n",
            "3\n",
            "5\n",
            "8\n",
            "13\n",
            "21\n",
            "34\n",
            "55\n",
            "89\n",
            "144\n",
            "233\n",
            "377\n",
            "610\n",
            "987\n",
            "1597\n",
            "2584\n",
            "4181\n",
            "6765\n",
            "10946\n",
            "17711\n",
            "28657\n",
            "46368\n",
            "75025\n",
            "121393\n",
            "196418\n",
            "317811\n",
            "514229\n",
            "832040\n",
            "1346269\n",
            "2178309\n",
            "3524578\n",
            "5702887\n",
            "9227465\n",
            "14930352\n",
            "24157817\n",
            "39088169\n",
            "63245986\n",
            "102334155\n",
            "165580141\n",
            "267914296\n",
            "433494437\n",
            "701408733\n",
            "1134903170\n",
            "1836311903\n",
            "2971215073\n",
            "4807526976\n",
            "7778742049\n",
            "12586269025\n",
            "20365011074\n",
            "32951280099\n",
            "53316291173\n",
            "86267571272\n",
            "139583862445\n",
            "225851433717\n",
            "365435296162\n",
            "591286729879\n",
            "956722026041\n",
            "1548008755920\n",
            "2504730781961\n",
            "4052739537881\n",
            "6557470319842\n",
            "10610209857723\n",
            "17167680177565\n",
            "27777890035288\n",
            "44945570212853\n",
            "72723460248141\n",
            "117669030460994\n",
            "190392490709135\n",
            "308061521170129\n",
            "498454011879264\n",
            "806515533049393\n",
            "1304969544928657\n",
            "2111485077978050\n",
            "3416454622906707\n",
            "5527939700884757\n",
            "8944394323791464\n",
            "14472334024676221\n",
            "23416728348467685\n",
            "37889062373143906\n",
            "61305790721611591\n",
            "99194853094755497\n",
            "160500643816367088\n",
            "259695496911122585\n",
            "420196140727489673\n",
            "679891637638612258\n",
            "1100087778366101931\n",
            "1779979416004714189\n"
          ]
        }
      ]
    }
  ]
}