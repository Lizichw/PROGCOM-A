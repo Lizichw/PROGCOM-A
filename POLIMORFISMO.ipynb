{
  "nbformat": 4,
  "nbformat_minor": 0,
  "metadata": {
    "colab": {
      "provenance": []
    },
    "kernelspec": {
      "name": "python3",
      "display_name": "Python 3"
    },
    "language_info": {
      "name": "python"
    }
  },
  "cells": [
    {
      "cell_type": "code",
      "execution_count": 2,
      "metadata": {
        "id": "BQVv2jksIJxE"
      },
      "outputs": [],
      "source": [
        "class auto:\n",
        "  def mover (self):\n",
        "    print(\"el auto avanza por la carretera\")\n",
        "\n",
        "class bicicleta:\n",
        "  def mover(self):\n",
        "    print(\"la bicicleta avanza por la carretera\")\n",
        "\n",
        "class avion:\n",
        "  def mover(self):\n",
        "    print(\"el avion avanza en el cielo\")"
      ]
    },
    {
      "cell_type": "code",
      "source": [
        "vehiculos = [auto(),bicicleta(),avion()]\n",
        "\n",
        "for v in vehiculos:\n",
        "  v.mover()\n",
        ""
      ],
      "metadata": {
        "colab": {
          "base_uri": "https://localhost:8080/"
        },
        "id": "B_K5wzf6QK40",
        "outputId": "8bd72b3e-1831-4c01-9959-6f0c3d95bc75"
      },
      "execution_count": 3,
      "outputs": [
        {
          "output_type": "stream",
          "name": "stdout",
          "text": [
            "el auto avanza por la carretera\n",
            "la bicicleta avanza por la carretera\n",
            "el avion avanza en el cielo\n"
          ]
        }
      ]
    }
  ]
}