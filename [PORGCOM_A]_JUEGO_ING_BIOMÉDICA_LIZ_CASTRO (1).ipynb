{
  "nbformat": 4,
  "nbformat_minor": 0,
  "metadata": {
    "colab": {
      "provenance": []
    },
    "kernelspec": {
      "name": "python3",
      "display_name": "Python 3"
    },
    "language_info": {
      "name": "python"
    }
  },
  "cells": [
    {
      "cell_type": "markdown",
      "source": [
        "En este caso, decidí llevar mi juego a el punto en donde la ingeniería biomédica se encarga de la rehabilitación y las terapias modernas."
      ],
      "metadata": {
        "id": "G3dR2BtZ6BTN"
      }
    },
    {
      "cell_type": "code",
      "execution_count": null,
      "metadata": {
        "colab": {
          "base_uri": "https://localhost:8080/"
        },
        "id": "uHkfdECd5gfZ",
        "outputId": "ac731a12-8713-44c8-f287-ddad39e6979f"
      },
      "outputs": [
        {
          "output_type": "stream",
          "name": "stdout",
          "text": [
            "\n",
            "Bienvenido al Centro de Rehabilitación Virtual, ¿qué deseas hacer?\n",
            "1. Ayudar a Juan con su fisioterapia\n",
            "2. Ayudar a Ana con su terapia del habla\n",
            "3. Ayudar a Luis con su rehabilitación cognitiva\n",
            "4. Salir\n",
            "Elige una opción (1-4): 3\n",
            "\n",
            "Luis necesita ejercitar su mente resolviendo una suma.\n",
            "¿Cuánto es 7 + 5? 12\n",
            "¡Correcto! Luis ha mejorado su capacidad cognitiva.\n",
            "\n",
            "Bienvenido al Centro de Rehabilitación Virtual, ¿qué deseas hacer?\n",
            "1. Ayudar a Juan con su fisioterapia\n",
            "2. Ayudar a Ana con su terapia del habla\n",
            "3. Ayudar a Luis con su rehabilitación cognitiva\n",
            "4. Salir\n",
            "Elige una opción (1-4): 2\n",
            "\n",
            "Ana necesita mejorar su pronunciación repitiendo palabras.\n",
            "Repite la palabra: casa (Presiona ENTER cuando lo hagas)casa\n",
            "Repite la palabra: perro (Presiona ENTER cuando lo hagas)perro\n",
            "Repite la palabra: feliz (Presiona ENTER cuando lo hagas)no\n",
            "Ana ha terminado su sesión de terapia del habla. ¡Gran trabajo!\n",
            "\n",
            "Bienvenido al Centro de Rehabilitación Virtual, ¿qué deseas hacer?\n",
            "1. Ayudar a Juan con su fisioterapia\n",
            "2. Ayudar a Ana con su terapia del habla\n",
            "3. Ayudar a Luis con su rehabilitación cognitiva\n",
            "4. Salir\n",
            "Elige una opción (1-4): 4\n",
            "Gracias por jugar. ¡Hasta la próxima!\n"
          ]
        }
      ],
      "source": [
        "import time\n",
        "\n",
        "def mostrar_menu():\n",
        "    print(\"\\nBienvenido al Centro de Rehabilitación Virtual, ¿qué deseas hacer?\")\n",
        "    print(\"1. Ayudar a Juan con su fisioterapia\")\n",
        "    print(\"2. Ayudar a Ana con su terapia del habla\")\n",
        "    print(\"3. Ayudar a Luis con su rehabilitación cognitiva\")\n",
        "    print(\"4. Salir\")\n",
        "\n",
        "def fisioterapia():\n",
        "    print(\"\\nJuan sufrió una lesión en la pierna y necesita hacer ejercicios.\")\n",
        "    print(\"Le ayudaremos a hacer 3 repeticiones de estiramiento, ¡Ayúdanos!\")\n",
        "    for i in range(1, 4):\n",
        "        print(f\"Ejercicio {i} completado ¡Lo hiciste excelente!\")\n",
        "        time.sleep(1)\n",
        "    print(\"Juan ha completado su sesión de fisioterapia. ¡Bien hecho!\")\n",
        "\n",
        "def terapia_habla():\n",
        "    print(\"\\nAna necesita mejorar su pronunciación repitiendo palabras.\")\n",
        "    palabras = [\"casa\", \"perro\", \"feliz\"]\n",
        "    for palabra in palabras:\n",
        "        input(f\"Repite la palabra: {palabra} (Presiona ENTER cuando lo hagas)\")\n",
        "    print(\"Ana ha terminado su sesión de terapia del habla. ¡Gran trabajo!\")\n",
        "\n",
        "def rehabilitacion_cognitiva():\n",
        "    print(\"\\nLuis necesita ejercitar su mente resolviendo una suma.\")\n",
        "    respuesta = int(input(\"¿Cuánto es 7 + 5? \"))\n",
        "    if respuesta == 12:\n",
        "        print(\"¡Correcto! Luis ha mejorado su capacidad cognitiva.\")\n",
        "    else:\n",
        "        print(\"Inténtalo de nuevo más tarde.\")\n",
        "\n",
        "def main():\n",
        "    while True:\n",
        "        mostrar_menu()\n",
        "        opcion = input(\"Elige una opción (1-4): \")\n",
        "        if opcion == \"1\":\n",
        "            fisioterapia()\n",
        "        elif opcion == \"2\":\n",
        "            terapia_habla()\n",
        "        elif opcion == \"3\":\n",
        "            rehabilitacion_cognitiva()\n",
        "        elif opcion == \"4\":\n",
        "            print(\"Gracias por jugar. ¡Hasta la próxima!\")\n",
        "            break\n",
        "        else:\n",
        "            print(\"Opción no válida. Inténtalo de nuevo.\")\n",
        "\n",
        "if __name__ == \"__main__\":\n",
        "    main()\n"
      ]
    }
  ]
}