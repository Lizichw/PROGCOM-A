{
  "nbformat": 4,
  "nbformat_minor": 0,
  "metadata": {
    "colab": {
      "provenance": []
    },
    "kernelspec": {
      "name": "python3",
      "display_name": "Python 3"
    },
    "language_info": {
      "name": "python"
    }
  },
  "cells": [
    {
      "cell_type": "code",
      "execution_count": null,
      "metadata": {
        "colab": {
          "base_uri": "https://localhost:8080/"
        },
        "id": "fO4o-CKbRMNU",
        "outputId": "5b497e8c-3090-46d3-c4d2-3605de947dbf"
      },
      "outputs": [
        {
          "output_type": "stream",
          "name": "stdout",
          "text": [
            "Ingrese la base del triángulo:19\n",
            "Ingresa la altura del triángulo:8\n",
            "El área del triángulo es: 76.0\n"
          ]
        }
      ],
      "source": [
        "#Calcular base de un triángulo\n",
        "base=float(input(\"Ingrese la base del triángulo: \"))\n",
        "altura=float(input(\"Ingresa la altura del triángulo: \"))\n",
        "print(f\"El área del triángulo es: {base*altura/2} \")"
      ]
    },
    {
      "cell_type": "code",
      "source": [
        "#Convierta grados Celsius a Fahrenheit\n",
        "num=int(input(\"Ingrese la temperatura en grados Celsius: \"))\n",
        "print(f\"La temperatura en grados Fahrenheit es: {num*+32} \")"
      ],
      "metadata": {
        "colab": {
          "base_uri": "https://localhost:8080/"
        },
        "id": "6N7MZxRDRwo-",
        "outputId": "848e4241-7753-458a-861d-c6112d0bfc4b"
      },
      "execution_count": null,
      "outputs": [
        {
          "output_type": "stream",
          "name": "stdout",
          "text": [
            "Ingrese la temperatura en grados Celsius:98\n",
            "La temperatura en grados Fahrenheit es: 3136\n"
          ]
        }
      ]
    },
    {
      "cell_type": "code",
      "source": [
        "#Desarrolle un programa que calcule el promedio de tres números ingresados por el usuario\n",
        "num1=float(input(\"Ingrese el primer número: \"))\n",
        "num2=float(input(\"Ingrese el segundo número: \"))\n",
        "num3=float(input(\"Ingrese el tercer número: \"))\n",
        "print(f\"El promedio de los números es: {(num1+num2+num3)/3} \")"
      ],
      "metadata": {
        "colab": {
          "base_uri": "https://localhost:8080/"
        },
        "id": "ZHMemRCdSC7I",
        "outputId": "1da12027-794b-4929-ea24-9643e290d8dd"
      },
      "execution_count": null,
      "outputs": [
        {
          "output_type": "stream",
          "name": "stdout",
          "text": [
            "Ingrese el primer número:3\n",
            "Ingrese el segundo número:4\n",
            "Ingrese el tercer número:8\n",
            "El promedio de los números es: 5.0\n"
          ]
        }
      ]
    },
    {
      "cell_type": "code",
      "source": [
        "#Escriba un programa que calcule el perímetro y área de un círculo dado su radio\n",
        "rad=float(input(\"Ingrese el radio del círculo: \"))\n",
        "print(f\"El perímetro del círculo es: {2*3.1416*rad} \")\n",
        "print(f\"El área del círculo es: {3.1416*rad**2} \")"
      ],
      "metadata": {
        "colab": {
          "base_uri": "https://localhost:8080/"
        },
        "id": "O9TGRugASSBR",
        "outputId": "8bc4fb25-01bb-4779-a36e-e138d2391eab"
      },
      "execution_count": null,
      "outputs": [
        {
          "output_type": "stream",
          "name": "stdout",
          "text": [
            "Ingrese el radio del círculo:5\n",
            "El perímetro del círculo es: 31.416\n",
            "El área del círculo es: 78.53999999999999\n"
          ]
        }
      ]
    },
    {
      "cell_type": "code",
      "source": [
        "#Cree un programa que resuelva una ecuación cuadrática (ax² + bx + c = 0) pidiendo los valores de a, b y c\n",
        "a=float(input(\"Ingrese el valor de a: \"))\n",
        "b=float(input(\"Ingrese el valor de b: \"))\n",
        "c=float(input(\"Ingrese el valor de c: \"))\n",
        "print(f\"La ecuación es: {a}x²+{b}x+{c}=0 \")\n",
        "print(f\"El resultado a la ecuación es: {(-b+(b**2-4*a*c)**1/2)/(2*a)} y {(-b-(b**2-4*a*c)**1/2)/(2*a)}\")"
      ],
      "metadata": {
        "colab": {
          "base_uri": "https://localhost:8080/"
        },
        "id": "5IJCWI6hSgrR",
        "outputId": "ef965fa3-b92a-4e4e-9586-2ccbd08539a6"
      },
      "execution_count": null,
      "outputs": [
        {
          "output_type": "stream",
          "name": "stdout",
          "text": [
            "Ingrese el valor de a:3\n",
            "Ingrese el valor de b:6\n",
            "Ingrese el valor de c:9\n",
            "La ecuación es: 3.0x²+6.0x+9.0=0\n",
            "El resultado a la ecuación es: -7.0 y 5.0\n"
          ]
        }
      ]
    },
    {
      "cell_type": "code",
      "source": [
        "#Desarrolle un programa que determine si un número es par o impar\n",
        "num=int(input(\"Ingrese un número: \"))\n",
        "if num%2==0:\n",
        "    print(f\"{num} es un número par \")\n",
        "else:\n",
        "    print(f\"{num} es un número impar \")"
      ],
      "metadata": {
        "colab": {
          "base_uri": "https://localhost:8080/"
        },
        "id": "GdoW1XvPSuOk",
        "outputId": "64934f00-9c8c-46ca-eee1-8fa835beea94"
      },
      "execution_count": null,
      "outputs": [
        {
          "output_type": "stream",
          "name": "stdout",
          "text": [
            "Ingrese un número:6537466890\n",
            "6537466890 es par\n"
          ]
        }
      ]
    },
    {
      "cell_type": "code",
      "source": [
        "#CreE un programa que determine si un año es bisiesto\n",
        "año=int(input(\"Ingrese el año: \"))\n",
        "print(f\"{año} es un año bisiesto\") if año%4==0 and año%100!=0 else print(f\"{año} no es un año bisiesto \")"
      ],
      "metadata": {
        "colab": {
          "base_uri": "https://localhost:8080/"
        },
        "id": "moLlytGyTQZe",
        "outputId": "4e49f87e-db1c-49bf-add4-d1bb8d8bd5bc"
      },
      "execution_count": null,
      "outputs": [
        {
          "output_type": "stream",
          "name": "stdout",
          "text": [
            "Ingrese el año:2012\n",
            "2012 es un año bisiesto\n"
          ]
        }
      ]
    },
    {
      "cell_type": "code",
      "source": [
        "#Escribe un programa que solicite el nombre del usuario y determine si una persona pertenece a la tercera edad (70 años o más) y si se cumple la condición, imprima que se le da prioridad en la fila\n",
        "nam=input(\"Ingrese su nombre: \")\n",
        "e=int(input(\"Ingrese su edad: \"))\n",
        "if e>=70:\n",
        "  print(f\"{nam}, se encuentra en el rango de preferencia en fila, continúe \")\n",
        "else:\n",
        "  print(f\"{nam}, no se encuntra en el rango de preferencia en la fila. Continpue en espera \")"
      ],
      "metadata": {
        "colab": {
          "base_uri": "https://localhost:8080/"
        },
        "id": "o8jIj-DPTcXe",
        "outputId": "7ce82c2c-dd58-4300-e3bb-4e64a31db71a"
      },
      "execution_count": null,
      "outputs": [
        {
          "output_type": "stream",
          "name": "stdout",
          "text": [
            "ingrese su nombre:Milena\n",
            "ingrese su edad:48\n",
            "Milena, no se encuntra en el rango de preferencia en la fila. Continpue en espera.\n"
          ]
        }
      ]
    },
    {
      "cell_type": "code",
      "source": [
        "#Desarrolla un programa que compare tres números y muestre el mayor.\n",
        "nuum1=float(input(\"Ingrese el primer número:\"))\n",
        "num2=float(input(\"Ingrese el segundo número:\"))\n",
        "num3=float(input(\"Ingrese el tercer número: \"))\n",
        "print(f\"El número mayor es: {num1}\") if num1>num2 and num2>num3 else print(f\"el número mayor es: {num2}\") if num2>num1 and num2>num3 else print(f\"el número mayor es: {num3}\")"
      ],
      "metadata": {
        "colab": {
          "base_uri": "https://localhost:8080/"
        },
        "id": "B_Z0Ig6SUQk-",
        "outputId": "e45a9d81-12ed-4c98-ccd0-7afc89798dac"
      },
      "execution_count": null,
      "outputs": [
        {
          "output_type": "stream",
          "name": "stdout",
          "text": [
            "Ingrese el primer número:67\n",
            "Ingrese el segundo número:89\n",
            "Ingrese el tercer número:1234567\n",
            "el número mayor es: 1234567.0\n"
          ]
        }
      ]
    },
    {
      "cell_type": "code",
      "source": [
        "#Cree un programa que determine si un triángulo es equilátero, isósceles o escaleno según sus lados\n",
        "la1=float(input(\"Ingrese el primer lado del triángulo: \"))\n",
        "la2=float(input(\"Ingrese el segundo lado del triángulo: \"))\n",
        "la3=float(input(\"Ingrese el tercer lado del triángulo: \"))\n",
        "if la1==la2 and la2==la3:\n",
        "  print(\"el triángulo es equilátero \")\n",
        "else:\n",
        "  if la1==la2 or la2==la3 or la1==la3:\n",
        "    print(\"El triángulo es isósceles \")\n",
        "  else:\n",
        "    print(\"El triángulo es escaleno  3\")"
      ],
      "metadata": {
        "colab": {
          "base_uri": "https://localhost:8080/"
        },
        "id": "21_atHNPUwDW",
        "outputId": "7c644f82-05d4-40b2-b0b1-5428b1f72458"
      },
      "execution_count": null,
      "outputs": [
        {
          "output_type": "stream",
          "name": "stdout",
          "text": [
            "Ingrese el primer lado del triángulo: 3\n",
            "Ingrese el segundo lado del triángulo: 4\n",
            "Ingrese el tercer lado del triángulo: 4\n",
            "El triángulo es isósceles \n"
          ]
        }
      ]
    }
  ]
}