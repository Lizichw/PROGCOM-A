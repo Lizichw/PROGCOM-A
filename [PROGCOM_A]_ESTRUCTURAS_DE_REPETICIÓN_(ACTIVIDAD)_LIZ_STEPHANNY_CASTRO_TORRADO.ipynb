{
  "nbformat": 4,
  "nbformat_minor": 0,
  "metadata": {
    "colab": {
      "provenance": []
    },
    "kernelspec": {
      "name": "python3",
      "display_name": "Python 3"
    },
    "language_info": {
      "name": "python"
    }
  },
  "cells": [
    {
      "cell_type": "code",
      "execution_count": 4,
      "metadata": {
        "colab": {
          "base_uri": "https://localhost:8080/"
        },
        "id": "QYTixigwGwq2",
        "outputId": "95e4d125-788c-4009-d08a-fd3f32250e49"
      },
      "outputs": [
        {
          "output_type": "stream",
          "name": "stdout",
          "text": [
            "Ingrese su nombre: Ana\n",
            "Ingrese su peso en kg: 91\n",
            "Ingrese su estatura : 1.93\n",
            "Ana, su IMC es de 24.43018604526296, está en la categoria: normal.\n",
            "  Su IMC marca un peso general promedio .\n"
          ]
        }
      ],
      "source": [
        "\n",
        "#Escribe un programa que calcule el índice de masa corporal (IMC) y determine la categoría (bajo peso, normal, sobrepeso, obesidad). Al final, el programa debe imprimir: el nombre del usuario, su categoría y una breve descripción de lo que debe hacer de acuerdo a su categoría.\n",
        "\n",
        "nom= input(\"Ingrese su nombre: \")\n",
        "pe= float(input(\"Ingrese su peso en kg: \"))\n",
        "est= float(input(\"Ingrese su estatura : \"))\n",
        "\n",
        "IMC= pe/(est**2)\n",
        "\n",
        "ca= [\"bajo peso\", \"normal\", \"sobrepeso\", \"obesidad\"]\n",
        "ra= [18.5, 24.9, 29.9, float('inf')]\n",
        "\n",
        "for i in range(len(ca)):\n",
        "  if IMC < ra[i]:\n",
        "    ca = ca[i]\n",
        "    break\n",
        "\n",
        "des = {\"bajo peso\": \"Si su IMC es notifica un peso bajo al promedio, debe recurrir con un especialista en nutrición para poder ganar masa y mantener un peso estable. \", \"normal\": \"  Su IMC marca un peso general promedio .\", \"sobrepeso\": \"Su IMC se encuentra algo alejado de la media,  se le recomienda iniciar un proceso nutricional y físico para evitar problemas en su salud .\", \"obesidad\": \"La salud es el elemento más importante para una vida estable, su IMC marca un índice elevado al peso promedio. Lo más recomendable para usted es que acuda con un especialista en salud nutricional y en sapecto físico. \"}\n",
        "\n",
        "print(f\"{nom}, su IMC es de {IMC}, está en la categoria: {ca}.\")\n",
        "print(des[ca])"
      ]
    },
    {
      "cell_type": "code",
      "source": [
        "nom= input(\"Ingrese su nombre: \")\n",
        "pe= float(input(\"Ingrese su peso en kg: \"))\n",
        "est= float(input(\"Ingrese su estatura en metros: \"))\n",
        "\n",
        "IMC= pe/(est**2)\n",
        "\n",
        "ca= [\"bajo peso\", \"normal\", \"sobrepeso\", \"obesidad\"]\n",
        "rango= [18.5, 24.9, 29.9, float('inf')]\n",
        "i= 0\n",
        "\n",
        "while i < len(ca):\n",
        "  if IMC < rango[i]:\n",
        "    ca = ca[i]\n",
        "    break\n",
        "  i= i + 1\n",
        "\n",
        "recomendaciones = {\"bajo peso\": \"Si su IMC es notifica un peso bajo al promedio, debe recurrir con un especialista en nutrición para poder ganar masa y mantener un peso estable. \", \"normal\": \"  Su IMC marca un peso general promedio .\", \"sobrepeso\": \"Su IMC se encuentra algo alejado de la media,  se le recomienda iniciar un proceso nutricional y físico para evitar problemas en su salud .\", \"obesidad\": \"La salud es el elemento más importante para una vida estable, su IMC marca un índice elevado al peso promedio. Lo más recomendable para usted es que acuda con un especialista en salud nutricional y en sapecto físico. \"}\n",
        "\n",
        "print(f\"{nom}, su IMC es de {IMC}, está en la categoria: {ca}.\")\n",
        "print(recomendaciones[ca])\n",
        ""
      ],
      "metadata": {
        "colab": {
          "base_uri": "https://localhost:8080/"
        },
        "id": "5qo1r6KsJuDG",
        "outputId": "89b3a7ec-fc85-47ff-fbc5-91f345b319c6"
      },
      "execution_count": 5,
      "outputs": [
        {
          "output_type": "stream",
          "name": "stdout",
          "text": [
            "Ingrese su nombre: Isa\n",
            "Ingrese su peso en kg: 45\n",
            "Ingrese su estatura en metros: 1.89\n",
            "Isa, su IMC es de 12.597631645250694, está en la categoria: bajo peso.\n",
            "Si su IMC es notifica un peso bajo al promedio, debe recurrir con un especialista en nutrición para poder ganar masa y mantener un peso estable. \n"
          ]
        }
      ]
    },
    {
      "cell_type": "code",
      "source": [
        "#Desarrolla un programa que simule una calculadora simple (+, -, *, /) con dos números.\n",
        "\n",
        "num1= float(input(\"Ingrese el primer numero: \"))\n",
        "num2= float(input(\"Ingrese el segundo numero: \"))\n",
        "\n",
        "op= [\"suma\", \"resta\", \"multiplicacion\", \"division\"]\n",
        "\n",
        "for i in range(len(op)):\n",
        "  if i == 0:\n",
        "    print(f\"{num1} + {num2} = {num1+num2}\")\n",
        "  elif i == 1:\n",
        "    print(f\"{num1} - {num2} = {num1-num2}\")\n",
        "  elif i == 2:\n",
        "    print(f\"{num1} * {num2} = {num1*num2}\")\n",
        "  else:\n",
        "    print(f\"{num1} / {num2} = {num1/num2}\")"
      ],
      "metadata": {
        "colab": {
          "base_uri": "https://localhost:8080/"
        },
        "id": "nP8JfGBUKPx3",
        "outputId": "42e57e39-359b-45ef-8cdf-7a3bbd945456"
      },
      "execution_count": 8,
      "outputs": [
        {
          "output_type": "stream",
          "name": "stdout",
          "text": [
            "Ingrese el primer numero: 8\n",
            "Ingrese el segundo numero: 9\n",
            "8.0 + 9.0 = 17.0\n",
            "8.0 - 9.0 = -1.0\n",
            "8.0 * 9.0 = 72.0\n",
            "8.0 / 9.0 = 0.8888888888888888\n"
          ]
        }
      ]
    },
    {
      "cell_type": "code",
      "source": [
        "num1= float(input(\"Ingrese el primer numero: \"))\n",
        "num2= float(input(\"Ingrese el segundo numero: \"))\n",
        "\n",
        "op= [\"suma\", \"resta\", \"multiplicacion\", \"division\"]\n",
        "i= 0\n",
        "\n",
        "while i < len(op):\n",
        "  if i == 0:\n",
        "    print(f\"{num1} + {num2} = {num1+num2}\")\n",
        "  elif i == 1:\n",
        "    print(f\"{num1} - {num2} = {num1-num2}\")\n",
        "  elif i == 2:\n",
        "    print(f\"{num1} * {num2} = {num1*num2}\")\n",
        "  else:\n",
        "    print(f\"{num1} / {num2} = {num1/num2}\")\n",
        "  i= i + 1"
      ],
      "metadata": {
        "colab": {
          "base_uri": "https://localhost:8080/"
        },
        "id": "Cbznef20K2c9",
        "outputId": "1f407985-a962-417c-efde-6d0f98559ad4"
      },
      "execution_count": 9,
      "outputs": [
        {
          "output_type": "stream",
          "name": "stdout",
          "text": [
            "Ingrese el primer numero: 6\n",
            "Ingrese el segundo numero: 5\n",
            "6.0 + 5.0 = 11.0\n",
            "6.0 - 5.0 = 1.0\n",
            "6.0 * 5.0 = 30.0\n",
            "6.0 / 5.0 = 1.2\n"
          ]
        }
      ]
    },
    {
      "cell_type": "code",
      "source": [
        "#Crea un programa que determine la calificación en letras (A, B, C, D, F) según una nota numérica (0-100).\n",
        "\n",
        "no= int(input(\"Ingrese su nota(0-100): \"))\n",
        "\n",
        "cal= [\"A\", \"B\", \"C\", \"D\", \"F\"]\n",
        "ra= [80, 70, 50, 20, 0]\n",
        "\n",
        "for i in range(len(cal)):\n",
        "  if no>= rango[i]:\n",
        "    calificación = cal[i]\n",
        "    break\n",
        "\n",
        "print(f\"Su calificación es: {calificación}\")"
      ],
      "metadata": {
        "colab": {
          "base_uri": "https://localhost:8080/"
        },
        "id": "a26SpsXELC5M",
        "outputId": "85e73933-d99c-423e-c600-3beb55fd18c6"
      },
      "execution_count": 10,
      "outputs": [
        {
          "output_type": "stream",
          "name": "stdout",
          "text": [
            "Ingrese su nota(0-100): 90\n",
            "Su calificación es: A\n"
          ]
        }
      ]
    },
    {
      "cell_type": "code",
      "source": [
        "no= int(input(\"Ingrese su nota(0-100): \"))\n",
        "\n",
        "cal= [\"A\", \"B\", \"C\", \"D\", \"F\"]\n",
        "ra= [80, 70, 50, 20, 0]\n",
        "i= 0\n",
        "\n",
        "while i== rango[i]:\n",
        "    calificacion = cal[i]\n",
        "    break\n",
        "    i= i + 1\n",
        "\n",
        "print(f\"Su calificación es: {calificación}\")\n",
        "\n",
        "\n",
        "#NOTA: PROFE, ESTE NO LO PUDE ENTENDER :("
      ],
      "metadata": {
        "colab": {
          "base_uri": "https://localhost:8080/"
        },
        "id": "mjtMdZYkLY7c",
        "outputId": "cd9b32a2-4e02-40d9-b493-1af2d8cdcd1e"
      },
      "execution_count": 17,
      "outputs": [
        {
          "output_type": "stream",
          "name": "stdout",
          "text": [
            "Ingrese su nota(0-100): 0\n",
            "Su calificación es: A\n"
          ]
        }
      ]
    },
    {
      "cell_type": "code",
      "source": [
        "#Escribe un programa que determine el día de la semana según un número (1-7).\n",
        "\n",
        "num= int(input(\"Ingrese un numero del 1 al 7: \"))\n",
        "\n",
        "di= [\"Lunes \", \"Martes\", \"Miercoles\", \"Jueves\", \"Viernes \", \"Sábado \", \"Domingo \"]\n",
        "\n",
        "for i in range(len(di)):\n",
        "  if num == i + 1:\n",
        "    día = di[i]\n",
        "    break\n",
        "\n",
        "print(f\"El número que seleccionó le pertenece al día: {dia}\")"
      ],
      "metadata": {
        "colab": {
          "base_uri": "https://localhost:8080/"
        },
        "id": "XArCLuHZL2LB",
        "outputId": "2628ca90-410d-4c5c-8205-d7f4c5df3ad7"
      },
      "execution_count": 22,
      "outputs": [
        {
          "output_type": "stream",
          "name": "stdout",
          "text": [
            "Ingrese un numero del 1 al 7: 6\n",
            "El número que seleccionó le pertenece al día: Sábado \n"
          ]
        }
      ]
    },
    {
      "cell_type": "code",
      "source": [
        "num= int(input(\"Ingrese un numero del 1 al 7: \"))\n",
        "\n",
        "di= [\"Lunes \", \"Martes\", \"Miercoles\", \"Jueves\", \"Viernes \", \"Sábado \", \"Domingo \"]\n",
        "i= 0\n",
        "\n",
        "while i < len(di):\n",
        "  if num == i + 1:\n",
        "    dia = di[i]\n",
        "    break\n",
        "  i= i + 1\n",
        "\n",
        "print(f\"El número que seleccionó le pertenece al día: {dia}\")"
      ],
      "metadata": {
        "colab": {
          "base_uri": "https://localhost:8080/"
        },
        "id": "PxgwF8bfL4Iq",
        "outputId": "4901aa97-5601-4c95-9c2c-62c37dfd2721"
      },
      "execution_count": 23,
      "outputs": [
        {
          "output_type": "stream",
          "name": "stdout",
          "text": [
            "Ingrese un numero del 1 al 7: 4\n",
            "El número que seleccionó le pertenece al día: Jueves\n"
          ]
        }
      ]
    },
    {
      "cell_type": "code",
      "source": [
        "#Desarrolla un programa que valide si tres números pueden formar un triángulo y de qué tipo es.\n",
        "\n",
        "num1= int(input(\"Ingrese el primer numero: \"))\n",
        "num2= int(input(\"Ingrese el segundo numero: \"))\n",
        "num3= int(input(\"Ingrese el tercer numero: \"))\n",
        "\n",
        "triangulos= [\"Equilatero\", \"Isosceles\", \"Escaleno\"]\n",
        "\n",
        "if num1+ num2 > num3 and num1+ num3 > num2 and num2+ num3 > num1:\n",
        "  for i in range(len(triangulos)):\n",
        "    if num1 == num2 == num3:\n",
        "      triangulo = triangulos[0]\n",
        "    elif num1 == num2 or num1 == num3 or num2 == num3:\n",
        "      triangulo = triangulos[1]\n",
        "    else:\n",
        "      triangulo = triangulos[2]\n",
        "  print(f\" Los número elegido forman el triángulo : {triangulo}\")\n",
        "\n",
        "else:\n",
        "  print(f\"Los números elegidos no logran formar un triángulo. Inténtelo nuevamente. \")"
      ],
      "metadata": {
        "id": "tY3yQk_WL9Wf"
      },
      "execution_count": null,
      "outputs": []
    },
    {
      "cell_type": "code",
      "source": [
        "num1= int(input(\"Ingrese el primer número: \"))\n",
        "num2= int(input(\"Ingrese el segundo número: \"))\n",
        "num3= int(input(\"Ingrese el tercer número: \"))\n",
        "\n",
        "triangulos= [\"Equilátero\", \"Isósceles\", \"Escaleno\"]\n",
        "\n",
        "while num1+ num2 > num3 and num1+ num3 > num2 and num2+ num3 > num1:\n",
        "  if num1 == num2 == num3:\n",
        "    triangulo = triangulos[0]\n",
        "  elif num1 == num2 or num1 == num1 or num2 == num3:\n",
        "    triangulo = triangulos[1]\n",
        "  else:\n",
        "    triangulo = triangulos[2]\n",
        "  print(f\"Los número elegido forman el triángulo : {triangulo}\")\n",
        "  break\n",
        "\n",
        "else:\n",
        "  print(f\"Los números elegidos no logran formar un triángulo. Inténtelo nuevamente. \")"
      ],
      "metadata": {
        "colab": {
          "base_uri": "https://localhost:8080/"
        },
        "id": "ql64NzKwL-Kv",
        "outputId": "22565446-c61a-482e-984b-044201dd6726"
      },
      "execution_count": 26,
      "outputs": [
        {
          "output_type": "stream",
          "name": "stdout",
          "text": [
            "Ingrese el primer número: 5\n",
            "Ingrese el segundo número: 7\n",
            "Ingrese el tercer número: 8\n",
            "Los números si pueden formar un triángulo y su tipo es: Isósceles\n"
          ]
        }
      ]
    },
    {
      "cell_type": "code",
      "source": [
        "#Crea un programa que muestre la tabla de multiplicar de un número hasta el 10.\n",
        "\n",
        "a=int(input(\"Ingrese un número. \"))\n",
        "for num in range(1,11):\n",
        "  print(f\"{a}*{num}={a*num}\")\n",
        ""
      ],
      "metadata": {
        "colab": {
          "base_uri": "https://localhost:8080/"
        },
        "id": "unKrevhFMAJC",
        "outputId": "ed77bcba-36d5-470b-d453-676df26d83fe"
      },
      "execution_count": 27,
      "outputs": [
        {
          "output_type": "stream",
          "name": "stdout",
          "text": [
            "Ingrese un número. 7\n",
            "7*1=7\n",
            "7*2=14\n",
            "7*3=21\n",
            "7*4=28\n",
            "7*5=35\n",
            "7*6=42\n",
            "7*7=49\n",
            "7*8=56\n",
            "7*9=63\n",
            "7*10=70\n"
          ]
        }
      ]
    },
    {
      "cell_type": "code",
      "source": [
        "b= int(input(\"Ingrese un número. \"))\n",
        "i= 1\n",
        "\n",
        "while i <= 10:\n",
        "  print(f\"{b}*{i}={b*i}\")\n",
        "  i= i + 1\n",
        ""
      ],
      "metadata": {
        "colab": {
          "base_uri": "https://localhost:8080/"
        },
        "id": "QUEXHsdDMECi",
        "outputId": "287edd35-dba8-4435-eb06-b6e736bcabf2"
      },
      "execution_count": 28,
      "outputs": [
        {
          "output_type": "stream",
          "name": "stdout",
          "text": [
            "Ingrese un número. 55\n",
            "55*1=55\n",
            "55*2=110\n",
            "55*3=165\n",
            "55*4=220\n",
            "55*5=275\n",
            "55*6=330\n",
            "55*7=385\n",
            "55*8=440\n",
            "55*9=495\n",
            "55*10=550\n"
          ]
        }
      ]
    },
    {
      "cell_type": "code",
      "source": [
        "\n",
        "#Escribe un programa que calcule la suma de números naturales hasta n.\n",
        "\n",
        "número = int(input(\"Ingrese un número: \"))\n",
        "s = 0\n",
        "\n",
        "for i in range(1, número + 1):\n",
        "    s = s + i\n",
        "\n",
        "print(f\"La suma de los números naturales desde 1 hasta {número} es: {s}\")"
      ],
      "metadata": {
        "colab": {
          "base_uri": "https://localhost:8080/"
        },
        "id": "feGqZhJxMFhS",
        "outputId": "d1ea628f-6a9d-48dd-ac94-e65b5f84462f"
      },
      "execution_count": 31,
      "outputs": [
        {
          "output_type": "stream",
          "name": "stdout",
          "text": [
            "Ingrese un número: 8\n",
            "La suma de los números naturales desde 1 hasta 8 es: 36\n"
          ]
        }
      ]
    },
    {
      "cell_type": "code",
      "source": [
        "número = int(input(\"Ingrese un número: \"))\n",
        "s= 0\n",
        "i= 1\n",
        "\n",
        "while i<= número:\n",
        "  s= s + i\n",
        "  i= i + 1\n",
        "\n",
        "print(f\"La suma de los números naturales desde 1 hasta {número} es: {s}\")"
      ],
      "metadata": {
        "colab": {
          "base_uri": "https://localhost:8080/"
        },
        "id": "TmXp3C5VMHW1",
        "outputId": "eda7c91e-23a3-4a37-974d-56c431b10670"
      },
      "execution_count": 32,
      "outputs": [
        {
          "output_type": "stream",
          "name": "stdout",
          "text": [
            "Ingrese un número: 8\n",
            "La suma de los números naturales desde 1 hasta 8 es: 36\n"
          ]
        }
      ]
    },
    {
      "cell_type": "code",
      "source": [
        "\n",
        "#Desarrolla un programa que calcule el factorial de un número. Recuerda que el factorial de 0 es 1 y no existen factoriales negativos.\n",
        "\n",
        "l= int(input(\"Ingrese un número: \"))\n",
        "fac = 1\n",
        "\n",
        "for i in range(1, l + 1):\n",
        "  factorial = factorial * i\n",
        "\n",
        "print(f\"El factorial de {l} es: {factorial}\")\n",
        "\n",
        "#NOTA: Este tampoco me salió profe :("
      ],
      "metadata": {
        "colab": {
          "base_uri": "https://localhost:8080/",
          "height": 228
        },
        "id": "ubBxDxQ-MJE9",
        "outputId": "0ad93b8c-76ae-47f1-e91a-e54dac0ce483"
      },
      "execution_count": 34,
      "outputs": [
        {
          "name": "stdout",
          "output_type": "stream",
          "text": [
            "Ingrese un número: 4\n"
          ]
        },
        {
          "output_type": "error",
          "ename": "NameError",
          "evalue": "name 'factorial' is not defined",
          "traceback": [
            "\u001b[0;31m---------------------------------------------------------------------------\u001b[0m",
            "\u001b[0;31mNameError\u001b[0m                                 Traceback (most recent call last)",
            "\u001b[0;32m<ipython-input-34-9ec1c43fabd0>\u001b[0m in \u001b[0;36m<cell line: 0>\u001b[0;34m()\u001b[0m\n\u001b[1;32m      5\u001b[0m \u001b[0;34m\u001b[0m\u001b[0m\n\u001b[1;32m      6\u001b[0m \u001b[0;32mfor\u001b[0m \u001b[0mi\u001b[0m \u001b[0;32min\u001b[0m \u001b[0mrange\u001b[0m\u001b[0;34m(\u001b[0m\u001b[0;36m1\u001b[0m\u001b[0;34m,\u001b[0m \u001b[0ml\u001b[0m \u001b[0;34m+\u001b[0m \u001b[0;36m1\u001b[0m\u001b[0;34m)\u001b[0m\u001b[0;34m:\u001b[0m\u001b[0;34m\u001b[0m\u001b[0;34m\u001b[0m\u001b[0m\n\u001b[0;32m----> 7\u001b[0;31m   \u001b[0mfactorial\u001b[0m \u001b[0;34m=\u001b[0m \u001b[0mfactorial\u001b[0m \u001b[0;34m*\u001b[0m \u001b[0mi\u001b[0m\u001b[0;34m\u001b[0m\u001b[0;34m\u001b[0m\u001b[0m\n\u001b[0m\u001b[1;32m      8\u001b[0m \u001b[0;34m\u001b[0m\u001b[0m\n\u001b[1;32m      9\u001b[0m \u001b[0mprint\u001b[0m\u001b[0;34m(\u001b[0m\u001b[0;34mf\"El factorial de {l} es: {factorial}\"\u001b[0m\u001b[0;34m)\u001b[0m\u001b[0;34m\u001b[0m\u001b[0;34m\u001b[0m\u001b[0m\n",
            "\u001b[0;31mNameError\u001b[0m: name 'factorial' is not defined"
          ]
        }
      ]
    },
    {
      "cell_type": "code",
      "source": [
        "#Crea un programa que muestre los primeros n números de la serie Fibonacci.\n",
        "\n",
        "n= int(input(\"Ingrese los números de la serie Fibonacci que desee ver: \"))\n",
        "a, b = 0, 1\n",
        "\n",
        "for i in range(n):\n",
        "  print(a)\n",
        "  a, b = b, a + b"
      ],
      "metadata": {
        "colab": {
          "base_uri": "https://localhost:8080/"
        },
        "id": "jkcJmoURMMIT",
        "outputId": "2ae61d06-7a42-4e26-c913-c433bd69d86c"
      },
      "execution_count": 38,
      "outputs": [
        {
          "output_type": "stream",
          "name": "stdout",
          "text": [
            "Ingrese los números de la serie Fibonacci que desee ver: 3\n",
            "0\n",
            "1\n",
            "1\n"
          ]
        }
      ]
    },
    {
      "cell_type": "code",
      "source": [
        "n= int(input(\"Ingrese los números de la serie Fibonacci que desee ver: \"))\n",
        "a, b = 0, 1\n",
        "i = 1\n",
        "\n",
        "while i <= n:\n",
        "  print(a)\n",
        "  a, b = b, a + b\n",
        "  i= i + 1"
      ],
      "metadata": {
        "colab": {
          "base_uri": "https://localhost:8080/"
        },
        "id": "IRBRqAJxMNn2",
        "outputId": "07525522-38dc-41e8-e12f-84c8f56272b2"
      },
      "execution_count": 39,
      "outputs": [
        {
          "output_type": "stream",
          "name": "stdout",
          "text": [
            "Ingrese los números de la serie Fibonacci que desee ver: 12\n",
            "0\n",
            "1\n",
            "1\n",
            "2\n",
            "3\n",
            "5\n",
            "8\n",
            "13\n",
            "21\n",
            "34\n",
            "55\n",
            "89\n"
          ]
        }
      ]
    }
  ]
}