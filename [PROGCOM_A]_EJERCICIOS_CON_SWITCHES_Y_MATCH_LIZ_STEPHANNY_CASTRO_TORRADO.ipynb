{
  "nbformat": 4,
  "nbformat_minor": 0,
  "metadata": {
    "colab": {
      "provenance": []
    },
    "kernelspec": {
      "name": "python3",
      "display_name": "Python 3"
    },
    "language_info": {
      "name": "python"
    }
  },
  "cells": [
    {
      "cell_type": "markdown",
      "source": [
        "#Liz Stephanny Castro Torrado\n",
        "\n",
        "###U00181174\n",
        "\n",
        "###Ejercicios con Switches y match"
      ],
      "metadata": {
        "id": "e9Z2aBwLxtVv"
      }
    },
    {
      "cell_type": "code",
      "execution_count": 7,
      "metadata": {
        "colab": {
          "base_uri": "https://localhost:8080/"
        },
        "id": "o3JR2XyCv5r7",
        "outputId": "9f0ea5a3-c92c-4279-ff19-337e6a52d27a"
      },
      "outputs": [
        {
          "name": "stdout",
          "output_type": "stream",
          "text": [
            "Elija un número 68\n"
          ]
        }
      ],
      "source": [
        "#Desarrolla un programa que determine si un número es par o impar.\n",
        "\n",
        "opc=input(\"Elija un número \")"
      ]
    },
    {
      "cell_type": "code",
      "source": [
        "if opc==\"3\" :print(f\"El número {opc} es un número impar. \")\n",
        "elif opc==\"8\" :print(f\"El número {opc} es un número par. \")\n",
        "elif opc==\"38\" :print(f\"El número {opc} es un número par. \")\n",
        "elif opc==\"101\" :print(f\"El número {opc} es un número impar. \")\n",
        "else: print(f\"El número que eligió no se esncuentra en la tabla sugerida. \")"
      ],
      "metadata": {
        "colab": {
          "base_uri": "https://localhost:8080/"
        },
        "id": "Le7BhyTkxtDP",
        "outputId": "3e4bfd1b-261f-4cad-947b-547c558c0db2"
      },
      "execution_count": 8,
      "outputs": [
        {
          "output_type": "stream",
          "name": "stdout",
          "text": [
            "El número que eligió no se esncuentra en la tabla sugerida. \n"
          ]
        }
      ]
    },
    {
      "cell_type": "code",
      "source": [
        "match opc:\n",
        "  case \"3\" :print(f\"El número {opc} es un número impar. \")\n",
        "  case \"8\" :print(f\"El número {opc} es un número par. \")\n",
        "  case \"38\" :print(f\"El número {opc} es un número par. \")\n",
        "  case \"101\" :print(f\"El número {opc} es un número impar. \")\n",
        "  case _: print(f\"El número que eligió no se esncuentra en la tabla sugerida. \")"
      ],
      "metadata": {
        "colab": {
          "base_uri": "https://localhost:8080/"
        },
        "id": "ntuJZMxXzvoO",
        "outputId": "a94696a1-0dfe-4a1a-d154-1b5451ffb9b2"
      },
      "execution_count": 9,
      "outputs": [
        {
          "output_type": "stream",
          "name": "stdout",
          "text": [
            "El número que eligió no se esncuentra en la tabla sugerida. \n"
          ]
        }
      ]
    },
    {
      "cell_type": "code",
      "source": [
        "#Crea un programa que determine si un año es bisiesto (divisible por 4 y no por 100, o divisible por 400).\n",
        "opc=input(\"Elija un año \")"
      ],
      "metadata": {
        "colab": {
          "base_uri": "https://localhost:8080/"
        },
        "id": "e_j_FFIh0Bhx",
        "outputId": "d7f3080c-5867-4585-c5bf-64e45d06bcc6"
      },
      "execution_count": 14,
      "outputs": [
        {
          "name": "stdout",
          "output_type": "stream",
          "text": [
            "Elija un año 2025\n"
          ]
        }
      ]
    },
    {
      "cell_type": "code",
      "source": [
        "if opc==\"2013\" :print(f\"El número {opc} no es un año bisiesto. \")\n",
        "elif opc==\"2008\" :print(f\"El número {opc} es un año bisiesto.  \")\n",
        "elif opc==\"1890\" :print(f\"El número {opc} no es un año bisiesto. \")\n",
        "elif opc==\"2020\" :print(f\"El número {opc} es un año bisiesto.  \")\n",
        "else: print(f\"El año que eligió no se esncuentra en la tabla sugerida. \")"
      ],
      "metadata": {
        "colab": {
          "base_uri": "https://localhost:8080/"
        },
        "id": "n4rs0kke0J3m",
        "outputId": "01ea6f3f-c2dd-47a2-c7d9-b986e6c1f76e"
      },
      "execution_count": 15,
      "outputs": [
        {
          "output_type": "stream",
          "name": "stdout",
          "text": [
            "El año que eligió no se esncuentra en la tabla sugerida. \n"
          ]
        }
      ]
    },
    {
      "cell_type": "code",
      "source": [
        "match opc:\n",
        "  case \"2013\" :print(f\"El número {opc} no es un año bisiesto. \")\n",
        "  case \"2008\" :print(f\"El número {opc} es un año bisiesto. \")\n",
        "  case \"1890\" :print(f\"El número {opc} no es un año bisiesto.\")\n",
        "  case \"2020\" :print(f\"El número {opc} es un año bisiesto.  \")\n",
        "  case _: print(f\"El año que eligió no se esncuentra en la tabla sugerida. \")"
      ],
      "metadata": {
        "colab": {
          "base_uri": "https://localhost:8080/"
        },
        "id": "niB5zpsm0NGN",
        "outputId": "e0e66f8c-66e1-4e38-e00e-84c5dab47e59"
      },
      "execution_count": 16,
      "outputs": [
        {
          "output_type": "stream",
          "name": "stdout",
          "text": [
            "El año que eligió no se esncuentra en la tabla sugerida. \n"
          ]
        }
      ]
    },
    {
      "cell_type": "code",
      "source": [
        "# Escribe un programa que solicite el nombre del usuario y determine si una persona pertenece a la tercera edad (70 años o más) y si se cumple la condición, imprima que se le da prioridad en la fila.\n",
        "opc=input(\"Ingrese su nombre \")\n",
        "opc=input(\"Ingrese su edad \")"
      ],
      "metadata": {
        "colab": {
          "base_uri": "https://localhost:8080/"
        },
        "id": "QurWUqkw2jKa",
        "outputId": "a7cff446-f0a8-4426-c593-f1198e33df94"
      },
      "execution_count": 25,
      "outputs": [
        {
          "name": "stdout",
          "output_type": "stream",
          "text": [
            "Ingrese su nombre Maria\n",
            "Ingrese su edad 90\n"
          ]
        }
      ]
    },
    {
      "cell_type": "code",
      "source": [
        "if opc==\"21\" :print(f\"La edad de {opc} apños no se encuentra en el rango de personas de tercera edad, mantengase en la fila. \")\n",
        "elif opc==\"49\" :print(f\"La edad de {opc} años no se encuentra en el rango de personas de tercera edad, mantengase en la fila. \")\n",
        "elif opc==\"95\" :print(f\"La edad de {opc} años se ecuentra en el rango de persona de tercera edad, usted tiene prioridad en la fila. \")\n",
        "elif opc==\"80\" :print(f\"La edad de {opc} años se ecuentra en el rango de persona de tercera edad, usted tiene prioridad en la fila. \")\n",
        "else: print(f\"Edad no identificada, por favor inténtelo nuevamente.\")"
      ],
      "metadata": {
        "colab": {
          "base_uri": "https://localhost:8080/"
        },
        "id": "cjkAsQDj2ngL",
        "outputId": "d58c7d88-c9bb-4abf-900c-a8a85134b8be"
      },
      "execution_count": 26,
      "outputs": [
        {
          "output_type": "stream",
          "name": "stdout",
          "text": [
            "Edad no identificada, por favor inténtelo nuevamente.\n"
          ]
        }
      ]
    },
    {
      "cell_type": "code",
      "source": [
        "match opc:\n",
        "  case \"21\" :print(f\"La edad de {opc} años no se encuentra en el rango de personas de tercera edad, mantengase en la fila. \")\n",
        "  case \"49\" :print(f\"La edad de {opc} años no se encuentra en el rango de personas de tercera edad, mantengase en la fila. \")\n",
        "  case \"95\" :print(f\"La edad de {opc} años se ecuentra en el rango de persona de tercera edad, usted tiene prioridad en la fila. \")\n",
        "  case \"80\" :print(f\"La edad de {opc} años se ecuentra en el rango de persona de tercera edad, usted tiene prioridad en la fila. \")\n",
        "  case _: print(f\"Edad no identificada, por favor inténtelo nuevamente.\")"
      ],
      "metadata": {
        "colab": {
          "base_uri": "https://localhost:8080/"
        },
        "id": "dan_9UZk2nwM",
        "outputId": "4e3d90d9-a09e-4370-f944-e339096f68d2"
      },
      "execution_count": 27,
      "outputs": [
        {
          "output_type": "stream",
          "name": "stdout",
          "text": [
            "Edad no identificada, por favor inténtelo nuevamente.\n"
          ]
        }
      ]
    },
    {
      "cell_type": "code",
      "source": [
        "#Desarrolla un programa que compare tres números y muestre el mayor.\n",
        "opc=input(\"Elija una tres números \")"
      ],
      "metadata": {
        "colab": {
          "base_uri": "https://localhost:8080/"
        },
        "id": "6ksI3Yk76vIM",
        "outputId": "8424356e-b69a-4c38-b935-425c3983b129"
      },
      "execution_count": 1,
      "outputs": [
        {
          "name": "stdout",
          "output_type": "stream",
          "text": [
            "Elija una tres números 1, 2, 3\n"
          ]
        }
      ]
    },
    {
      "cell_type": "code",
      "source": [
        "if opc==\"70, 20, 59\" :print(f\"el número mayor de su elección {opc} es el 70. \")\n",
        "elif opc==\"7, 0, 32\" :print(f\"el número mayor de su elección {opc} es el 32. \")\n",
        "elif opc==\"200, 1745, 98\" :print(f\"el número mayor de su elección {opc} es el 1745. \")\n",
        "elif opc==\"13, 56, 9\" :print(f\"el número mayor de su elección {opc}  es el 56. \")\n",
        "else: print(f\"Conjunto de números no identificados, por favor inténtelo nuevamente.\")"
      ],
      "metadata": {
        "colab": {
          "base_uri": "https://localhost:8080/"
        },
        "id": "Pe7T0FII_q1Z",
        "outputId": "79dedfe6-f0b0-4ad5-e885-cece3cd0db2e"
      },
      "execution_count": 4,
      "outputs": [
        {
          "output_type": "stream",
          "name": "stdout",
          "text": [
            "Conjunto de números no identificados, por favor inténtelo nuevamente.\n"
          ]
        }
      ]
    },
    {
      "cell_type": "code",
      "source": [
        "match opc:\n",
        "  case \"70, 20, 59\" :print(f\"el número mayor de su elección {opc} es el 70. \")\n",
        "  case \"7, 0, 32\" :print(f\"el número mayor de su elección {opc}  es el 32. \")\n",
        "  case \"200, 1745, 98\" :print(f\"el número mayor de su elección {opc} es el 1745. \")\n",
        "  case \"13, 56, 9\" :print(f\"el número mayor de su elección {opc}  es el 56. \")\n",
        "  case _: print(f\"Conjunto de números no identificados, por favor inténtelo nuevamente.\")"
      ],
      "metadata": {
        "colab": {
          "base_uri": "https://localhost:8080/"
        },
        "id": "ViTav1mT_rIg",
        "outputId": "931924ec-d15a-4649-d2d3-2082f5f878d6"
      },
      "execution_count": 5,
      "outputs": [
        {
          "output_type": "stream",
          "name": "stdout",
          "text": [
            "Conjunto de números no identificados, por favor inténtelo nuevamente.\n"
          ]
        }
      ]
    },
    {
      "cell_type": "code",
      "source": [
        "#Crea un programa que determine si un triángulo es equilátero, isósceles o escaleno según sus lados.\n",
        "opc=input(\"Especifíque los lados de su triángulo \")"
      ],
      "metadata": {
        "colab": {
          "base_uri": "https://localhost:8080/"
        },
        "id": "PScBPtHZ_rmy",
        "outputId": "556f8b83-c331-4693-9a59-584dba57a711"
      },
      "execution_count": 14,
      "outputs": [
        {
          "name": "stdout",
          "output_type": "stream",
          "text": [
            "Especifíque los lados de su triángulo 12cm, 12cm, 12cm\n"
          ]
        }
      ]
    },
    {
      "cell_type": "code",
      "source": [
        "if opc==\"12cm, 12cm, 12cm\" :print(f\"los lados {opc} escogidos son de un triángulo equilátero porque todos sus lados son iguales. \")\n",
        "elif opc==\"49cm, 12cm, 12cm\" :print(f\"los lados {opc} escogidos son de un triángulo isóceles, ya que uno de sus lados es diferente a los otros dos. \")\n",
        "elif opc==\"9cm, 3cm, 12cm\" :print(f\"los lados {opc} escogidos son de un triángulo escaleno. Todos sus lados son diferentes. \")\n",
        "else: print(f\"Ninguno de los lados marcados se encuentran habilitados .\")"
      ],
      "metadata": {
        "colab": {
          "base_uri": "https://localhost:8080/"
        },
        "id": "ajQDnuDr_xAp",
        "outputId": "3ecea9f5-02b6-40ea-f1a9-e5b15193238d"
      },
      "execution_count": 15,
      "outputs": [
        {
          "output_type": "stream",
          "name": "stdout",
          "text": [
            "los lados 12cm, 12cm, 12cm escogidos son de un triángulo equilátero porque todos sus lados son iguales. \n"
          ]
        }
      ]
    },
    {
      "cell_type": "code",
      "source": [
        "match opc:\n",
        "  case \"12cm, 12cm, 12cm\" :print(f\"los lados {opc} escogidos son de un triángulo equilátero porque todos sus lados son iguales. \")\n",
        "  case \"49cm, 12cm, 12cm\" :print(f\"los lados {opc} escogidos son de un triángulo isóceles, ya que uno de sus lados es diferente a los otros dos. \")\n",
        "  case \"9cm, 3cm, 12cm\" :print(f\"los lados {opc} escogidos son de un triángulo escaleno. Todos sus lados son diferentes. \")\n",
        "  case _: print(f\"Ninguno de los lados marcados se encuentran habilitados .\")"
      ],
      "metadata": {
        "colab": {
          "base_uri": "https://localhost:8080/"
        },
        "id": "DFMKILW7_w4i",
        "outputId": "c327335c-43f8-416f-b747-30692e77a492"
      },
      "execution_count": 16,
      "outputs": [
        {
          "output_type": "stream",
          "name": "stdout",
          "text": [
            "los lados 12cm, 12cm, 12cm escogidos son de un triángulo equilátero porque todos sus lados son iguales. \n"
          ]
        }
      ]
    }
  ]
}