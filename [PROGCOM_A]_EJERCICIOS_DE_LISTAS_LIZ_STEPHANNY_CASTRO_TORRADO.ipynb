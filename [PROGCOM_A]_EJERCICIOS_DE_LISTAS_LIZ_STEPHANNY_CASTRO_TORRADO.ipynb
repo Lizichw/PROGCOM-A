{
  "nbformat": 4,
  "nbformat_minor": 0,
  "metadata": {
    "colab": {
      "provenance": []
    },
    "kernelspec": {
      "name": "python3",
      "display_name": "Python 3"
    },
    "language_info": {
      "name": "python"
    }
  },
  "cells": [
    {
      "cell_type": "code",
      "execution_count": 7,
      "metadata": {
        "colab": {
          "base_uri": "https://localhost:8080/"
        },
        "id": "AF006u6KrYDo",
        "outputId": "c9dd3482-0848-4df9-e592-b4bae4dbd5cd"
      },
      "outputs": [
        {
          "output_type": "stream",
          "name": "stdout",
          "text": [
            "Ingrese el primer número: 5\n",
            "Ingrese el segundo número: 5\n",
            "Ingrese el tercer número: 5\n",
            "Los número elegido forman el triángulo : Equilátero\n"
          ]
        }
      ],
      "source": [
        "#Desarrolla un programa que valide si tres números pueden formar un triángulo y de qué tipo es.\n",
        "\n",
        "num1= int(input(\"Ingrese el primer número: \"))\n",
        "num2= int(input(\"Ingrese el segundo número: \"))\n",
        "num3= int(input(\"Ingrese el tercer número: \"))\n",
        "\n",
        "triangulos= [\"Equilátero\", \"Isósceles\", \"Escaleno\"]\n",
        "\n",
        "while num1+ num2 > num3 and num1+ num3 > num2 and num2+ num3 > num1:\n",
        "  if num1 == num2 == num3:\n",
        "    triangulo = triangulos[0]\n",
        "  elif num1 == num2 or num1 == num1 or num2 == num3:\n",
        "    triangulo = triangulos[1]\n",
        "  else:\n",
        "    triangulo = triangulos[2]\n",
        "  print(f\"Los número elegido forman el triángulo : {triangulo}\")\n",
        "  break\n",
        "\n",
        "else:\n",
        "  print(f\"Los números elegidos no logran formar un triángulo. Inténtelo nuevamente. \")"
      ]
    },
    {
      "cell_type": "code",
      "source": [
        "#Crea un programa que muestre la tabla de multiplicar de un número hasta el 10.\n",
        "\n",
        "\n",
        "a=int(input(\"Ingrese un número. \"))\n",
        "for num in range(1,11):\n",
        "  print(f\"{a}*{num}={a*num}\")"
      ],
      "metadata": {
        "colab": {
          "base_uri": "https://localhost:8080/"
        },
        "id": "wYNS_TbCsvLT",
        "outputId": "623664ac-9d29-432d-ff3f-954002bc9760"
      },
      "execution_count": 10,
      "outputs": [
        {
          "output_type": "stream",
          "name": "stdout",
          "text": [
            "Ingrese un número. 9\n",
            "9*1=9\n",
            "9*2=18\n",
            "9*3=27\n",
            "9*4=36\n",
            "9*5=45\n",
            "9*6=54\n",
            "9*7=63\n",
            "9*8=72\n",
            "9*9=81\n",
            "9*10=90\n"
          ]
        }
      ]
    },
    {
      "cell_type": "code",
      "source": [
        "#Escribe un programa que calcule la suma de números naturales hasta n.\n",
        "número = int(input(\"Ingrese un número: \"))\n",
        "s = 0\n",
        "\n",
        "for i in range(1, número + 1):\n",
        "    s = s + i\n",
        "\n",
        "print(f\"La suma de los números naturales desde 1 hasta {número} es: {s}\")"
      ],
      "metadata": {
        "colab": {
          "base_uri": "https://localhost:8080/"
        },
        "id": "dLy4YAiAswAD",
        "outputId": "e167f6fb-eefa-4108-f3d2-82dc05c170e1"
      },
      "execution_count": 11,
      "outputs": [
        {
          "output_type": "stream",
          "name": "stdout",
          "text": [
            "Ingrese un número: 6\n",
            "La suma de los números naturales desde 1 hasta 6 es: 21\n"
          ]
        }
      ]
    },
    {
      "cell_type": "code",
      "source": [
        "#Desarrolla un programa que calcule el factorial de un número. Recuerda que el factorial de 0 es 1 y no existen factoriales negativos."
      ],
      "metadata": {
        "id": "D6H9t-5WsygA"
      },
      "execution_count": null,
      "outputs": []
    },
    {
      "cell_type": "code",
      "source": [
        "#Crea un programa que muestre los primeros n números de la serie Fibonacci.\n",
        "n= int(input(\"Ingrese los números de la serie Fibonacci que desee ver: \"))\n",
        "a, b = 0, 1\n",
        "\n",
        "for i in range(n):\n",
        "  print(a)\n",
        "  a, b = b, a + b"
      ],
      "metadata": {
        "colab": {
          "base_uri": "https://localhost:8080/"
        },
        "id": "SH2Jnpe2s02H",
        "outputId": "ba054d02-87b1-41d3-e964-073b0d7058c1"
      },
      "execution_count": 12,
      "outputs": [
        {
          "output_type": "stream",
          "name": "stdout",
          "text": [
            "Ingrese los números de la serie Fibonacci que desee ver: 2\n",
            "0\n",
            "1\n"
          ]
        }
      ]
    },
    {
      "cell_type": "code",
      "source": [
        "#Escribe un programa que adivine entre un conjunto de diez colores definidos por el usuario, con un máximo de 10 intentos.\n",
        "\n",
        "import random\n",
        "\n",
        "def adivinar_color():\n",
        "\n",
        "    colores = [input(f\"Color {i + 1}: \").lower() for i in range(10)]\n",
        "\n",
        "\n",
        "    color_a_adivinar = random.choice( azul, amarillo, verde, negro, dorado, rosado, blanco, plateado, naranaja,rojo, gris)\n",
        "\n",
        "    print(\"\\nEl programa intentará adivinar el color que elegiste. Tiene 10 intentos.\")\n",
        "\n",
        "\n",
        "    intentos = [(random.choice( azul, amarillo, verde, negro, dorado, rosado, blanco, plateado, naranaja,rojo, gris) )\n",
        "          for i in range(10)]\n",
        "\n",
        "    for intento, numero_intento in intentos:\n",
        "        print(f\"\\nIntento {numero_intento}: El programa adivina el color '{intento}'.\")\n",
        "\n",
        "        if intento == color_a_adivinar:\n",
        "            print(f\"¡El programa adivinó correctamente el color '{intento}' en el intento {numero_intento}!\")\n",
        "            return\n",
        "\n",
        "    # Si no adivinó en 10 intentos\n",
        "    print(f\"\\nEl programa no pudo adivinar el color en 10 intentos. El color correcto era '{color_a_adivinar}'.\")\n",
        "\n"
      ],
      "metadata": {
        "id": "9jEyw8mEs2rU"
      },
      "execution_count": null,
      "outputs": []
    },
    {
      "cell_type": "code",
      "source": [
        "adivinar_color()"
      ],
      "metadata": {
        "colab": {
          "base_uri": "https://localhost:8080/",
          "height": 436
        },
        "id": "5a7RNfXyx9ab",
        "outputId": "0353ee1b-a150-46d1-c33c-4221be482233"
      },
      "execution_count": 33,
      "outputs": [
        {
          "name": "stdout",
          "output_type": "stream",
          "text": [
            "Color 1: azul\n",
            "Color 2: verde\n",
            "Color 3: amarillo\n",
            "Color 4: rojo\n",
            "Color 5: platead\n",
            "Color 6: gris\n",
            "Color 7: blanco\n",
            "Color 8: negro\n",
            "Color 9: naranja\n",
            "Color 10: rosado\n"
          ]
        },
        {
          "output_type": "error",
          "ename": "NameError",
          "evalue": "name 'azul' is not defined",
          "traceback": [
            "\u001b[0;31m---------------------------------------------------------------------------\u001b[0m",
            "\u001b[0;31mNameError\u001b[0m                                 Traceback (most recent call last)",
            "\u001b[0;32m<ipython-input-33-43fa55245808>\u001b[0m in \u001b[0;36m<cell line: 0>\u001b[0;34m()\u001b[0m\n\u001b[0;32m----> 1\u001b[0;31m \u001b[0madivinar_color\u001b[0m\u001b[0;34m(\u001b[0m\u001b[0;34m)\u001b[0m\u001b[0;34m\u001b[0m\u001b[0;34m\u001b[0m\u001b[0m\n\u001b[0m",
            "\u001b[0;32m<ipython-input-19-b21078ef74c6>\u001b[0m in \u001b[0;36madivinar_color\u001b[0;34m()\u001b[0m\n\u001b[1;32m      8\u001b[0m \u001b[0;34m\u001b[0m\u001b[0m\n\u001b[1;32m      9\u001b[0m \u001b[0;34m\u001b[0m\u001b[0m\n\u001b[0;32m---> 10\u001b[0;31m     \u001b[0mcolor_a_adivinar\u001b[0m \u001b[0;34m=\u001b[0m \u001b[0mrandom\u001b[0m\u001b[0;34m.\u001b[0m\u001b[0mchoice\u001b[0m\u001b[0;34m(\u001b[0m\u001b[0mazul\u001b[0m\u001b[0;34m,\u001b[0m \u001b[0mamarillo\u001b[0m\u001b[0;34m,\u001b[0m \u001b[0mverde\u001b[0m\u001b[0;34m,\u001b[0m \u001b[0mnegro\u001b[0m\u001b[0;34m,\u001b[0m \u001b[0mdorado\u001b[0m\u001b[0;34m,\u001b[0m \u001b[0mrosado\u001b[0m\u001b[0;34m,\u001b[0m \u001b[0mblanco\u001b[0m\u001b[0;34m,\u001b[0m \u001b[0mplateado\u001b[0m\u001b[0;34m,\u001b[0m \u001b[0mnaranaja\u001b[0m\u001b[0;34m,\u001b[0m\u001b[0mrojo\u001b[0m\u001b[0;34m,\u001b[0m \u001b[0mgris\u001b[0m\u001b[0;34m)\u001b[0m\u001b[0;34m\u001b[0m\u001b[0;34m\u001b[0m\u001b[0m\n\u001b[0m\u001b[1;32m     11\u001b[0m \u001b[0;34m\u001b[0m\u001b[0m\n\u001b[1;32m     12\u001b[0m     \u001b[0mprint\u001b[0m\u001b[0;34m(\u001b[0m\u001b[0;34m\"\\nEl programa intentará adivinar el color que elegiste. Tiene 10 intentos.\"\u001b[0m\u001b[0;34m)\u001b[0m\u001b[0;34m\u001b[0m\u001b[0;34m\u001b[0m\u001b[0m\n",
            "\u001b[0;31mNameError\u001b[0m: name 'azul' is not defined"
          ]
        }
      ]
    },
    {
      "cell_type": "code",
      "source": [
        "#Desarrolla un programa que muestre los números pares del 1 al 100.\n",
        "\n",
        "pares = [num for num in range(1, 101) if num % 2 == 0]\n",
        "\n",
        "\n",
        "print(pares)"
      ],
      "metadata": {
        "colab": {
          "base_uri": "https://localhost:8080/"
        },
        "id": "7xW9JVbjwYlk",
        "outputId": "1785f14f-d222-4896-974f-b6288e97af78"
      },
      "execution_count": 24,
      "outputs": [
        {
          "output_type": "stream",
          "name": "stdout",
          "text": [
            "[2, 4, 6, 8, 10, 12, 14, 16, 18, 20, 22, 24, 26, 28, 30, 32, 34, 36, 38, 40, 42, 44, 46, 48, 50, 52, 54, 56, 58, 60, 62, 64, 66, 68, 70, 72, 74, 76, 78, 80, 82, 84, 86, 88, 90, 92, 94, 96, 98, 100]\n"
          ]
        }
      ]
    },
    {
      "cell_type": "code",
      "source": [
        "#Crea un programa que calcule la suma de los dígitos de un número.\n",
        "\n",
        "def suma_digitos(numero):\n",
        "    return sum([int(digito) for digito in str(numero)])\n",
        "\n",
        "# Solicitar un número al usuario\n",
        "numero = int(input(\"Ingresa un número: \"))\n",
        "\n",
        "resultado = suma_digitos(numero)\n",
        "\n",
        "print(f\"La suma de los dígitos de {numero} es {resultado}.\")"
      ],
      "metadata": {
        "colab": {
          "base_uri": "https://localhost:8080/"
        },
        "id": "KC4ygES-s6f7",
        "outputId": "bd9ae52a-3e15-4230-df20-436f59b1fc8b"
      },
      "execution_count": 26,
      "outputs": [
        {
          "output_type": "stream",
          "name": "stdout",
          "text": [
            "Ingresa un número: 123\n",
            "La suma de los dígitos de 123 es 6.\n"
          ]
        }
      ]
    },
    {
      "cell_type": "code",
      "source": [
        "#Escribe un programa que determine si un número es primo.\n",
        "\n",
        "def es_primo(numero):\n",
        "    if numero <= 1:\n",
        "        return False\n",
        "    divisores = [i for i in range(2, numero) if numero % i == 0]\n",
        "    return len(divisores) == 0\n",
        "\n",
        "numero = int(input(\"Ingresa un número: \"))\n",
        "\n",
        "if es_primo(numero):\n",
        "    print(f\"{numero} es un número primo.\")\n",
        "else:\n",
        "    print(f\"{numero} no es un número primo.\")"
      ],
      "metadata": {
        "colab": {
          "base_uri": "https://localhost:8080/"
        },
        "id": "VEE53msktDiI",
        "outputId": "624bd54d-4574-425a-e552-998e501fa465"
      },
      "execution_count": 31,
      "outputs": [
        {
          "output_type": "stream",
          "name": "stdout",
          "text": [
            "Ingresa un número: 8\n",
            "8 no es un número primo.\n"
          ]
        }
      ]
    },
    {
      "cell_type": "code",
      "source": [
        "#Desarrolla un programa que muestre el patrón de un triángulo con asteriscos.\n",
        "\n",
        "\n",
        "def triangulo_asteriscos(filas):\n",
        "\n",
        "    for i in range(1, filas + 1):\n",
        "        print(''.join(['*' for _ in range(i)]))\n",
        "\n",
        "\n",
        "filas = int(input(\"Ingresa el número de filas para el triángulo: \"))\n",
        "triangulo_asteriscos(filas)\n"
      ],
      "metadata": {
        "colab": {
          "base_uri": "https://localhost:8080/"
        },
        "id": "oJfrbwVbtGQy",
        "outputId": "f3e90ce9-460d-4bf7-d477-9037eaa7e5cd"
      },
      "execution_count": 29,
      "outputs": [
        {
          "output_type": "stream",
          "name": "stdout",
          "text": [
            "Ingresa el número de filas para el triángulo: 5\n",
            "*\n",
            "**\n",
            "***\n",
            "****\n",
            "*****\n"
          ]
        }
      ]
    },
    {
      "cell_type": "code",
      "source": [
        "#Crea un programa que calcule la potencia de un número sin usar el operador **.\n",
        "\n",
        "def potencia(base, exponente):\n",
        "    resultado = [base for _ in range(exponente)]\n",
        "    return functools.reduce(lambda x, y: x * y, resultado, 1)\n",
        "\n",
        "import functools\n",
        "\n",
        "base = int(input(\"Ingresa la base: \"))\n",
        "exponente = int(input(\"Ingresa el exponente: \"))\n",
        "\n",
        "resultado = potencia(base, exponente)\n",
        "\n",
        "\n",
        "print(f\"{base} elevado a la {exponente} es {resultado}.\")"
      ],
      "metadata": {
        "colab": {
          "base_uri": "https://localhost:8080/"
        },
        "id": "zQ31zyC0tFbM",
        "outputId": "3e93860b-a625-40ba-a842-7383136865df"
      },
      "execution_count": 32,
      "outputs": [
        {
          "output_type": "stream",
          "name": "stdout",
          "text": [
            "Ingresa la base: 2\n",
            "Ingresa el exponente: 3\n",
            "2 elevado a la 3 es 8.\n"
          ]
        }
      ]
    }
  ]
}