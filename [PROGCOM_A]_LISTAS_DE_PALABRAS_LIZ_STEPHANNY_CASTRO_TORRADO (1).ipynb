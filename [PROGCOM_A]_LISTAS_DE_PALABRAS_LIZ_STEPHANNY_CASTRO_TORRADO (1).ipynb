{
  "nbformat": 4,
  "nbformat_minor": 0,
  "metadata": {
    "colab": {
      "provenance": []
    },
    "kernelspec": {
      "name": "python3",
      "display_name": "Python 3"
    },
    "language_info": {
      "name": "python"
    }
  },
  "cells": [
    {
      "cell_type": "markdown",
      "source": [
        "###Definición de 'False'\n",
        "\n",
        "En Python, la palabra clave False representa un valor **boleano** que indica *falso o la ausencia de verdad en una expresión lógica*. La palabra clave False en Python es fundamental para representar un valor booleano falso en evaluaciones lógicas y control de flujo.\n",
        "\n",
        "Lo tomé de: https://pythonscouts.com/python-false/#uso-de-false"
      ],
      "metadata": {
        "id": "1orB5QKxpNSH"
      }
    },
    {
      "cell_type": "code",
      "execution_count": null,
      "metadata": {
        "id": "3i-euZUfpEw2"
      },
      "outputs": [],
      "source": [
        "def greet(name, verbose=False):\n",
        "  if verbose:\n",
        "    print(f\"Hola, {name}! Cómo estás hoy?\")\n",
        "  else:\n",
        "    print(f\"Hola, {name}!\")"
      ]
    },
    {
      "cell_type": "code",
      "source": [
        "greet(\"Liz\")"
      ],
      "metadata": {
        "colab": {
          "base_uri": "https://localhost:8080/"
        },
        "id": "eqm24D7Yp9z6",
        "outputId": "61f8e59d-2264-4eb1-a3a7-68ba950b11b7"
      },
      "execution_count": null,
      "outputs": [
        {
          "output_type": "stream",
          "name": "stdout",
          "text": [
            "Hola, Liz!\n"
          ]
        }
      ]
    },
    {
      "cell_type": "markdown",
      "source": [
        "###Definición de 'None'\n",
        "\n",
        "La palabra clave None se utiliza para definir un valor nulo, o ningún valor.\n",
        "\n",
        "None no es lo mismo que 0, False o una cadena vacía. None es un tipo de datos propio (NoneType) y sólo None puede ser None.\n",
        "\n",
        "Lo tomé de: https://www.w3schools.com/python/ref_keyword_none.asp#:~:text=La%20palabra%20clave%20None%20se,solo%20Ninguno%20puede%20ser%20Ninguno."
      ],
      "metadata": {
        "id": "LWO16Ju9qiYx"
      }
    },
    {
      "cell_type": "code",
      "source": [
        "x = None\n",
        "\n",
        "print(x)"
      ],
      "metadata": {
        "colab": {
          "base_uri": "https://localhost:8080/"
        },
        "id": "eALrjVeeqiE4",
        "outputId": "31326802-862a-4574-84c9-f2485fc19a47"
      },
      "execution_count": null,
      "outputs": [
        {
          "output_type": "stream",
          "name": "stdout",
          "text": [
            "None\n"
          ]
        }
      ]
    },
    {
      "cell_type": "markdown",
      "source": [
        "###Definición de 'True'\n",
        "En Python, True es una constante incorporada que representa el valor booleano de verdadero.Puedes asignar True directamente a una variable u obtener True como resultado de comparaciones u operaciones lógicas.\n",
        "\n",
        "Lo tomé de: https://mimo.org/glossary/python/value-true\n"
      ],
      "metadata": {
        "id": "q8m6saKmsGIz"
      }
    },
    {
      "cell_type": "code",
      "source": [
        "while True:\n",
        "    response = input(\"Enter 'quit' to exit: \")\n",
        "    if response == 'quit':\n",
        "      print(\"good bye!\")\n",
        "      break"
      ],
      "metadata": {
        "colab": {
          "base_uri": "https://localhost:8080/"
        },
        "id": "fMWsMMBes7Uu",
        "outputId": "fb3bbc69-869a-433d-f145-0e08e2c02e36"
      },
      "execution_count": null,
      "outputs": [
        {
          "output_type": "stream",
          "name": "stdout",
          "text": [
            "Enter 'quit' to exit: no\n",
            "Enter 'quit' to exit: yes\n",
            "Enter 'quit' to exit: quit\n",
            "good bye!\n"
          ]
        }
      ]
    },
    {
      "cell_type": "markdown",
      "source": [
        "###Definición de 'And'\n",
        "\n",
        "El operador and evalúa si el valor a la izquierda y el de la derecha son True , y en el caso de ser cierto, devuelve True . Si uno de los dos valores es False , el resultado será False . Es realmente un operador muy lógico e intuitivo que incluso usamos en la vida real.\n",
        "\n",
        "Lo tomé de: https://ellibrodepython.com/operadores-logicos#:~:text=El%20operador%20and%20eval%C3%BAa%20si,usamos%20en%20la%20vida%20real."
      ],
      "metadata": {
        "id": "OtSCPddxtHeD"
      }
    },
    {
      "cell_type": "code",
      "source": [
        "print(not 0)\n",
        "print(not 1)"
      ],
      "metadata": {
        "colab": {
          "base_uri": "https://localhost:8080/"
        },
        "id": "1dJYIImYtHWv",
        "outputId": "fa27a172-48a0-4388-8457-2bd6e73a1581"
      },
      "execution_count": null,
      "outputs": [
        {
          "output_type": "stream",
          "name": "stdout",
          "text": [
            "True\n",
            "False\n"
          ]
        }
      ]
    },
    {
      "cell_type": "code",
      "source": [
        "print(True or False and False)"
      ],
      "metadata": {
        "colab": {
          "base_uri": "https://localhost:8080/"
        },
        "id": "8NVBDafbu-CU",
        "outputId": "7b8d990d-6107-4a71-86f6-2a7141e4db59"
      },
      "execution_count": null,
      "outputs": [
        {
          "output_type": "stream",
          "name": "stdout",
          "text": [
            "True\n"
          ]
        }
      ]
    },
    {
      "cell_type": "markdown",
      "source": [
        "###Definición de 'As'\n",
        "\n",
        "Se utiliza para crear un alias al importar un módulo.\n",
        "\n",
        "Lo tomé de: https://eiposgrados.com/blog-python/palabras-reservadas-python/#:~:text=As%20%E2%80%93%20Se%20utiliza%20para%20crear%20un%20alias%20al%20importar%20un%20m%C3%B3dulo.&text=Global%20%E2%80%93%20Para%20declarar%20una%20variable%20global.&text=Pass%20%E2%80%93%20Es%20una%20declaraci%C3%B3n%20nula%20en%20Python."
      ],
      "metadata": {
        "id": "0p68Pguju_DR"
      }
    },
    {
      "cell_type": "code",
      "source": [
        "import numpy as np\n",
        "import pandas as pd\n",
        "array = np.array([1, 2, 3])\n",
        "print(array)"
      ],
      "metadata": {
        "colab": {
          "base_uri": "https://localhost:8080/"
        },
        "id": "shgks7VRu-7J",
        "outputId": "20ae3d17-9a37-4ad1-b14e-c5c4cbf8e144"
      },
      "execution_count": null,
      "outputs": [
        {
          "output_type": "stream",
          "name": "stdout",
          "text": [
            "[1 2 3]\n"
          ]
        }
      ]
    },
    {
      "cell_type": "markdown",
      "source": [
        "###Definición de 'Assert'\n",
        "\n",
        "Se utiliza con fines de depuración\n",
        "\n",
        "Lo tomé de: https://eiposgrados.com/blog-python/palabras-reservadas-python/#:~:text=As%20%E2%80%93%20Se%20utiliza%20para%20crear%20un%20alias%20al%20importar%20un%20m%C3%B3dulo.&text=Global%20%E2%80%93%20Para%20declarar%20una%20variable%20global.&text=Pass%20%E2%80%93%20Es%20una%20declaraci%C3%B3n%20nula%20en%20Python."
      ],
      "metadata": {
        "id": "Cs16S2wrxYhU"
      }
    },
    {
      "cell_type": "code",
      "source": [
        "def suma(a, b):\n",
        "    return a + b\n",
        "\n",
        "resultado = suma(3, 4)\n",
        "assert resultado == 7"
      ],
      "metadata": {
        "id": "iHElVUDT0its"
      },
      "execution_count": null,
      "outputs": []
    },
    {
      "cell_type": "markdown",
      "source": [
        "###Definición de 'Break'\n",
        "\n",
        "Se utiliza en el interior de los bucles for y while para alterar su comportamiento normal\n",
        "\n",
        "Lo tomé de: https://eiposgrados.com/blog-python/palabras-reservadas-python/#:~:text=As%20%E2%80%93%20Se%20utiliza%20para%20crear%20un%20alias%20al%20importar%20un%20m%C3%B3dulo.&text=Global%20%E2%80%93%20Para%20declarar%20una%20variable%20global.&text=Pass%20%E2%80%93%20Es%20una%20declaraci%C3%B3n%20nula%20en%20Python."
      ],
      "metadata": {
        "id": "R_30EtcR0mNT"
      }
    },
    {
      "cell_type": "code",
      "source": [
        "numeros = [1, 3, 5, 7, 9, 11]\n",
        "\n",
        "for num in numeros:\n",
        "    if num == 7:\n",
        "        print(\"Número 7 encontrado, deteniendo la búsqueda.\")\n",
        "        break\n",
        "    print(f\"Revisando número: {num}\")"
      ],
      "metadata": {
        "colab": {
          "base_uri": "https://localhost:8080/"
        },
        "id": "-Z2-n6z50mJL",
        "outputId": "67ba1ff4-86aa-4488-d5dd-4aff3711c526"
      },
      "execution_count": null,
      "outputs": [
        {
          "output_type": "stream",
          "name": "stdout",
          "text": [
            "Revisando número: 1\n",
            "Revisando número: 3\n",
            "Revisando número: 5\n",
            "Número 7 encontrado, deteniendo la búsqueda.\n"
          ]
        }
      ]
    },
    {
      "cell_type": "markdown",
      "source": [
        "###Definición de 'Class'\n",
        "Se usa para definir una nueva clase definida por el usuario\n",
        "\n",
        " Lo tomé de: https://eiposgrados.com/blog-python/palabras-reservadas-python/#:~:text=As%20%E2%80%93%20Se%20utiliza%20para%20crear%20un%20alias%20al%20importar%20un%20m%C3%B3dulo.&text=Global%20%E2%80%93%20Para%20declarar%20una%20variable%20global.&text=Pass%20%E2%80%93%20Es%20una%20declaraci%C3%B3n%20nula%20en%20Python."
      ],
      "metadata": {
        "id": "zE0hCgAz1bca"
      }
    },
    {
      "cell_type": "code",
      "source": [
        "class Persona:\n",
        "    def __init__(self, nombre, edad):\n",
        "        self.nombre = nombre\n",
        "        self.edad = edad\n",
        "\n",
        "    def saludar(self):\n",
        "        return f\"Hola, mi nombre es {self.nombre} y tengo {self.edad} años.\"\n",
        "\n",
        "persona1 = Persona(\"Liz\", 18)\n",
        "print(persona1.saludar())"
      ],
      "metadata": {
        "colab": {
          "base_uri": "https://localhost:8080/"
        },
        "id": "_AqmYbdN1bXR",
        "outputId": "cc54314d-f3f6-4d3c-9eb4-64afbacc209e"
      },
      "execution_count": null,
      "outputs": [
        {
          "output_type": "stream",
          "name": "stdout",
          "text": [
            "Hola, mi nombre es Liz y tengo 18 años.\n"
          ]
        }
      ]
    },
    {
      "cell_type": "markdown",
      "source": [
        "###Definición de 'Continue'\n",
        "\n",
        " Se utiliza en el interior de los bucles for y while para alterar su comportamiento normal\n",
        "\n",
        " Lo tomé de: https://eiposgrados.com/blog-python/palabras-reservadas-python/#:~:text=As%20%E2%80%93%20Se%20utiliza%20para%20crear%20un%20alias%20al%20importar%20un%20m%C3%B3dulo.&text=Global%20%E2%80%93%20Para%20declarar%20una%20variable%20global.&text=Pass%20%E2%80%93%20Es%20una%20declaraci%C3%B3n%20nula%20en%20Python."
      ],
      "metadata": {
        "id": "IFKzPcFQ1-Ae"
      }
    },
    {
      "cell_type": "code",
      "source": [
        "numeros = [1, 2, 3, 4, 5, 6, 7, 8, 9, 10, 11, 12, 13, 14, 15, 16, 17, 18, 19, 20]\n",
        "\n",
        "for num in numeros:\n",
        "    if num % 2 != 0:\n",
        "        continue\n",
        "    print(f\"Número par: {num}\")"
      ],
      "metadata": {
        "colab": {
          "base_uri": "https://localhost:8080/"
        },
        "id": "wb14ThHQ193d",
        "outputId": "593c960f-8ad0-404d-c566-9cca1bbc94a0"
      },
      "execution_count": null,
      "outputs": [
        {
          "output_type": "stream",
          "name": "stdout",
          "text": [
            "Número par: 2\n",
            "Número par: 4\n",
            "Número par: 6\n",
            "Número par: 8\n",
            "Número par: 10\n",
            "Número par: 12\n",
            "Número par: 14\n",
            "Número par: 16\n",
            "Número par: 18\n",
            "Número par: 20\n"
          ]
        }
      ]
    },
    {
      "cell_type": "markdown",
      "source": [
        "###Definición de 'Def'\n",
        "\n",
        "se usa para definir una función definida por el usuario\n",
        "\n",
        "\n",
        "Lo tomé de: https://eiposgrados.com/blog-python/palabras-reservadas-python/#:~:text=As%20%E2%80%93%20Se%20utiliza%20para%20crear%20un%20alias%20al%20importar%20un%20m%C3%B3dulo.&text=Global%20%E2%80%93%20Para%20declarar%20una%20variable%20global.&text=Pass%20%E2%80%93%20Es%20una%20declaraci%C3%B3n%20nula%20en%20Python."
      ],
      "metadata": {
        "id": "chuU6dYa2lxz"
      }
    },
    {
      "cell_type": "code",
      "source": [
        "def saludar():\n",
        "    print(\"¡Hola, mundo!\")\n",
        "\n",
        "saludar()"
      ],
      "metadata": {
        "id": "zYWhyTgU2lpA"
      },
      "execution_count": null,
      "outputs": []
    },
    {
      "cell_type": "code",
      "source": [
        "def presentar(nombre, edad=18):\n",
        "    print(f\"Soy {nombre} y tengo {edad} años.\")\n",
        "\n",
        "presentar(\"Stephanny\")\n",
        "presentar(\"Liz\", 18)"
      ],
      "metadata": {
        "colab": {
          "base_uri": "https://localhost:8080/"
        },
        "id": "6MZimK6v26DP",
        "outputId": "a4488315-3558-4d70-c31d-5bd9a0a02c61"
      },
      "execution_count": null,
      "outputs": [
        {
          "output_type": "stream",
          "name": "stdout",
          "text": [
            "Soy Stephanny y tengo 18 años.\n",
            "Soy Liz y tengo 18 años.\n"
          ]
        }
      ]
    },
    {
      "cell_type": "markdown",
      "source": [
        "###Definición de 'Del'\n",
        "\n",
        "Para eliminar un objeto\n",
        "\n",
        "Lo tomé de: https://eiposgrados.com/blog-python/palabras-reservadas-python/#:~:text=As%20%E2%80%93%20Se%20utiliza%20para%20crear%20un%20alias%20al%20importar%20un%20m%C3%B3dulo.&text=Global%20%E2%80%93%20Para%20declarar%20una%20variable%20global.&text=Pass%20%E2%80%93%20Es%20una%20declaraci%C3%B3n%20nula%20en%20Python."
      ],
      "metadata": {
        "id": "_r0GlsLS3XcN"
      }
    },
    {
      "cell_type": "code",
      "source": [
        "letras = [\"a\", \"b\", \"c\", \"d\", \"e\"]\n",
        "del letras[1:3]\n",
        "print(letras)"
      ],
      "metadata": {
        "colab": {
          "base_uri": "https://localhost:8080/"
        },
        "id": "RLcRVyUs3XXm",
        "outputId": "04a70368-830d-4425-98b5-cc0b2a92d409"
      },
      "execution_count": null,
      "outputs": [
        {
          "output_type": "stream",
          "name": "stdout",
          "text": [
            "['a', 'd', 'e']\n"
          ]
        }
      ]
    },
    {
      "cell_type": "markdown",
      "source": [
        "###Definición de 'Elif'\n",
        "\n",
        "Se usa en declaraciones condicionales, igual ‘else’ e ‘if’\n",
        "\n",
        "Lo tomé de: https://eiposgrados.com/blog-python/palabras-reservadas-python/#:~:text=As%20%E2%80%93%20Se%20utiliza%20para%20crear%20un%20alias%20al%20importar%20un%20m%C3%B3dulo.&text=Global%20%E2%80%93%20Para%20declarar%20una%20variable%20global.&text=Pass%20%E2%80%93%20Es%20una%20declaraci%C3%B3n%20nula%20en%20Python."
      ],
      "metadata": {
        "id": "eByj6SCR3qew"
      }
    },
    {
      "cell_type": "code",
      "source": [
        "nota = 90\n",
        "\n",
        "if nota >= 90:\n",
        "    print(\"Calificación: A\")\n",
        "elif nota >= 80:\n",
        "    print(\"Calificación: B\")\n",
        "elif nota >= 70:\n",
        "    print(\"Calificación: C\")\n",
        "elif nota >= 60:\n",
        "    print(\"Calificación: D\")\n",
        "else:\n",
        "    print(\"Calificación: F\")"
      ],
      "metadata": {
        "colab": {
          "base_uri": "https://localhost:8080/"
        },
        "id": "cHMGJ_R63qW7",
        "outputId": "f967c0fb-7059-445a-97b0-c4e57efb2a79"
      },
      "execution_count": null,
      "outputs": [
        {
          "output_type": "stream",
          "name": "stdout",
          "text": [
            "Calificación: A\n"
          ]
        }
      ]
    },
    {
      "cell_type": "markdown",
      "source": [
        "###Definición de 'Else'\n",
        "\n",
        "Se usa en declaraciones condicionales, igual ‘else’ e ‘if’\n",
        "\n",
        "Lo tomé de: https://eiposgrados.com/blog-python/palabras-reservadas-python/#:~:text=As%20%E2%80%93%20Se%20utiliza%20para%20crear%20un%20alias%20al%20importar%20un%20m%C3%B3dulo.&text=Global%20%E2%80%93%20Para%20declarar%20una%20variable%20global.&text=Pass%20%E2%80%93%20Es%20una%20declaraci%C3%B3n%20nula%20en%20Python."
      ],
      "metadata": {
        "id": "jtlLsbpoEwYN"
      }
    },
    {
      "cell_type": "code",
      "source": [
        "for num in range(1, 6):\n",
        "    if num == 3:\n",
        "        print(\"Número encontrado, saliendo...\")\n",
        "        break\n",
        "    print(num)\n",
        "else:\n",
        "    print(\"El bucle terminó sin interrupciones.\")"
      ],
      "metadata": {
        "colab": {
          "base_uri": "https://localhost:8080/"
        },
        "id": "xVNDsPZHEwSF",
        "outputId": "a8c9d14e-d3dc-4bdf-809f-243f7f5503de"
      },
      "execution_count": null,
      "outputs": [
        {
          "output_type": "stream",
          "name": "stdout",
          "text": [
            "1\n",
            "2\n",
            "Número encontrado, saliendo...\n"
          ]
        }
      ]
    },
    {
      "cell_type": "markdown",
      "source": [
        "###Definición de 'Except'\n",
        "\n",
        "Se usa para crear excepciones, qué hacer cuando ocurre una excepción, igual que ‘raise’ y ‘try’\n",
        "\n",
        "Lo tomé de: https://eiposgrados.com/blog-python/palabras-reservadas-python/#:~:text=As%20%E2%80%93%20Se%20utiliza%20para%20crear%20un%20alias%20al%20importar%20un%20m%C3%B3dulo.&text=Global%20%E2%80%93%20Para%20declarar%20una%20variable%20global.&text=Pass%20%E2%80%93%20Es%20una%20declaraci%C3%B3n%20nula%20en%20Python.\n",
        "\n"
      ],
      "metadata": {
        "id": "ndjNuWh7FF62"
      }
    },
    {
      "cell_type": "code",
      "source": [
        "while True:\n",
        "    try:\n",
        "        numero = int(input(\"Ingresa un número: \"))\n",
        "        break\n",
        "    except ValueError:\n",
        "        print(\"Error: Debes ingresar un número válido.\")"
      ],
      "metadata": {
        "colab": {
          "base_uri": "https://localhost:8080/"
        },
        "id": "npNqQ27KFF1V",
        "outputId": "cb257fd2-8e22-440e-a40a-4d678760fbd0"
      },
      "execution_count": null,
      "outputs": [
        {
          "name": "stdout",
          "output_type": "stream",
          "text": [
            "Ingresa un número: oso\n",
            "Error: Debes ingresar un número válido.\n",
            "Ingresa un número: dinoautio\n",
            "Error: Debes ingresar un número válido.\n",
            "Ingresa un número: 3\n"
          ]
        }
      ]
    },
    {
      "cell_type": "markdown",
      "source": [
        "###Definición de 'Finally'\n",
        "\n",
        "Su uso garantiza que el bloque de código dentro de él se ejecute incluso si hay una excepción no controlada\n",
        "Lo tomé de: https://eiposgrados.com/blog-python/palabras-reservadas-python/#:~:text=As%20%E2%80%93%20Se%20utiliza%20para%20crear%20un%20alias%20al%20importar%20un%20m%C3%B3dulo.&text=Global%20%E2%80%93%20Para%20declarar%20una%20variable%20global.&text=Pass%20%E2%80%93%20Es%20una%20declaraci%C3%B3n%20nula%20en%20Python.\n"
      ],
      "metadata": {
        "id": "UcPXywobFlzq"
      }
    },
    {
      "cell_type": "code",
      "source": [
        "try:\n",
        "    print(\"Intentando abrir un archivo...\")\n",
        "    archivo = open(\"archivo_no_existente.txt\", \"r\")  # Archivo inexistente\n",
        "except FileNotFoundError:\n",
        "    print(\"Error: El archivo no existe.\")\n",
        "finally:\n",
        "    print(\"Cerrando el programa...\")"
      ],
      "metadata": {
        "colab": {
          "base_uri": "https://localhost:8080/"
        },
        "id": "9vtKtADGFluE",
        "outputId": "ae3beaec-b03a-4d1b-a2ff-27eba43f116b"
      },
      "execution_count": null,
      "outputs": [
        {
          "output_type": "stream",
          "name": "stdout",
          "text": [
            "Intentando abrir un archivo...\n",
            "Error: El archivo no existe.\n",
            "Cerrando el programa...\n"
          ]
        }
      ]
    },
    {
      "cell_type": "markdown",
      "source": [
        "###Definición de 'For'\n",
        "\n",
        "Utilizado para hacer bucles. Generalmente lo usamos cuando sabemos la cantidad de veces que queremos que se ejecute ese bucle\n",
        "\n",
        "Lo tomé de: https://eiposgrados.com/blog-python/palabras-reservadas-python/#:~:text=As%20%E2%80%93%20Se%20utiliza%20para%20crear%20un%20alias%20al%20importar%20un%20m%C3%B3dulo.&text=Global%20%E2%80%93%20Para%20declarar%20una%20variable%20global.&text=Pass%20%E2%80%93%20Es%20una%20declaraci%C3%B3n%20nula%20en%20Python.\n"
      ],
      "metadata": {
        "id": "6S5L2FJVF5hL"
      }
    },
    {
      "cell_type": "code",
      "source": [
        "nombres = [\"Camila\", \"Adrian\", \"Milena\"]\n",
        "edades = [18, 12, 48]\n",
        "\n",
        "for nombre, edad in zip(nombres, edades):\n",
        "    print(f\"{nombre} tiene {edad} años.\")"
      ],
      "metadata": {
        "colab": {
          "base_uri": "https://localhost:8080/"
        },
        "id": "NHiBmz2PF5cB",
        "outputId": "277e4027-7415-41fc-ceac-87fffb51e302"
      },
      "execution_count": null,
      "outputs": [
        {
          "output_type": "stream",
          "name": "stdout",
          "text": [
            "Camila tiene 18 años.\n",
            "Adrian tiene 12 años.\n",
            "Milena tiene 48 años.\n"
          ]
        }
      ]
    },
    {
      "cell_type": "markdown",
      "source": [
        "###Definición de 'From'\n",
        "\n",
        "Para importar partes específicas de un módulo\n",
        "\n",
        "Lo tomé de: https://eiposgrados.com/blog-python/palabras-reservadas-python/#:~:text=As%20%E2%80%93%20Se%20utiliza%20para%20crear%20un%20alias%20al%20importar%20un%20m%C3%B3dulo.&text=Global%20%E2%80%93%20Para%20declarar%20una%20variable%20global.&text=Pass%20%E2%80%93%20Es%20una%20declaraci%C3%B3n%20nula%20en%20Python.\n"
      ],
      "metadata": {
        "id": "FVKPFjSuNstN"
      }
    },
    {
      "cell_type": "code",
      "source": [
        "from math import sqrt\n",
        "\n",
        "print(sqrt(25))"
      ],
      "metadata": {
        "colab": {
          "base_uri": "https://localhost:8080/"
        },
        "id": "WHLlCSxyNsmC",
        "outputId": "c592bea2-3014-42e9-d86d-01b4d4b458f8"
      },
      "execution_count": null,
      "outputs": [
        {
          "output_type": "stream",
          "name": "stdout",
          "text": [
            "5.0\n"
          ]
        }
      ]
    },
    {
      "cell_type": "code",
      "source": [
        "print(sqrt(9))"
      ],
      "metadata": {
        "colab": {
          "base_uri": "https://localhost:8080/"
        },
        "id": "1FT2ICUuOMWP",
        "outputId": "e05fb4f6-746d-4f73-a119-f1f7825f3846"
      },
      "execution_count": null,
      "outputs": [
        {
          "output_type": "stream",
          "name": "stdout",
          "text": [
            "3.0\n"
          ]
        }
      ]
    },
    {
      "cell_type": "markdown",
      "source": [
        "###Definición de 'Global'\n",
        "\n",
        "Para declarar una variable global.\n",
        "\n",
        "Lo tomé de: https://eiposgrados.com/blog-python/palabras-reservadas-python/#:~:text=As%20%E2%80%93%20Se%20utiliza%20para%20crear%20un%20alias%20al%20importar%20un%20m%C3%B3dulo.&text=Global%20%E2%80%93%20Para%20declarar%20una%20variable%20global.&text=Pass%20%E2%80%93%20Es%20una%20declaraci%C3%B3n%20nula%20en%20Python."
      ],
      "metadata": {
        "id": "_FdZQ_cbOOPl"
      }
    },
    {
      "cell_type": "code",
      "source": [
        "mensaje=\"Liz, aniquila a Python\"\n",
        "\n",
        "def cambiar_mensaje():\n",
        "    global mensaje\n",
        "    mensaje=\"Liz, tenle paciencia a Python\"\n",
        "\n",
        "def mostrar_mensaje():\n",
        "    print(mensaje)\n",
        "\n",
        "cambiar_mensaje()\n",
        "mostrar_mensaje()"
      ],
      "metadata": {
        "colab": {
          "base_uri": "https://localhost:8080/"
        },
        "id": "emrR7EnjOOK2",
        "outputId": "81387c9f-32a4-4e9d-d086-2a3244ce17a1"
      },
      "execution_count": null,
      "outputs": [
        {
          "output_type": "stream",
          "name": "stdout",
          "text": [
            "Liz, tenle paciencia a Python\n"
          ]
        }
      ]
    },
    {
      "cell_type": "markdown",
      "source": [
        "###Definición de 'If'\n",
        "\n",
        "Para declarar una variable global.\n",
        "\n",
        "Lo tomé de: https://eiposgrados.com/blog-python/palabras-reservadas-python/#:~:text=As%20%E2%80%93%20Se%20utiliza%20para%20crear%20un%20alias%20al%20importar%20un%20m%C3%B3dulo.&text=Global%20%E2%80%93%20Para%20declarar%20una%20variable%20global.&text=Pass%20%E2%80%93%20Es%20una%20declaraci%C3%B3n%20nula%20en%20Python."
      ],
      "metadata": {
        "id": "Qw8xcWbFVUwR"
      }
    },
    {
      "cell_type": "code",
      "source": [
        "temperatura = 15\n",
        "\n",
        "if temperatura > 20:\n",
        "    print(\"Hace calor.\")\n",
        "else:\n",
        "    print(\"Hace frío.\")"
      ],
      "metadata": {
        "colab": {
          "base_uri": "https://localhost:8080/"
        },
        "id": "qZYFRRUd1_im",
        "outputId": "f62afa4b-a9a0-40f6-e66c-4d08e31ec653"
      },
      "execution_count": null,
      "outputs": [
        {
          "output_type": "stream",
          "name": "stdout",
          "text": [
            "Hace frío.\n"
          ]
        }
      ]
    },
    {
      "cell_type": "markdown",
      "source": [
        " ###Definición de 'Import'\n",
        "\n",
        "Para importar un módulo\n",
        "\n",
        "Lo tomé de: https://eiposgrados.com/blog-python/palabras-reservadas-python/#:~:text=As%20%E2%80%93%20Se%20utiliza%20para%20crear%20un%20alias%20al%20importar%20un%20m%C3%B3dulo.&text=Global%20%E2%80%93%20Para%20declarar%20una%20variable%20global.&text=Pass%20%E2%80%93%20Es%20una%20declaraci%C3%B3n%20nula%20en%20Python.\n"
      ],
      "metadata": {
        "id": "7P8e_PhI2X71"
      }
    },
    {
      "cell_type": "code",
      "source": [
        "import numpy as np\n",
        "\n",
        "arr = np.array([1, 2, 3, 4])\n",
        "print(arr)"
      ],
      "metadata": {
        "colab": {
          "base_uri": "https://localhost:8080/"
        },
        "id": "Zyb18_Eu2Stb",
        "outputId": "bfcccef1-c34c-4543-c679-1ee09f48c520"
      },
      "execution_count": null,
      "outputs": [
        {
          "output_type": "stream",
          "name": "stdout",
          "text": [
            "[1 2 3 4]\n"
          ]
        }
      ]
    },
    {
      "cell_type": "markdown",
      "source": [
        "###Definición de 'In'\n",
        "\n",
        "Para comprobar si un valor está presente en una lista, tupla, etc. Devuelve True si el valor está presente, de lo contrario devuelve False\n",
        "\n",
        "Lo tomé de: https://eiposgrados.com/blog-python/palabras-reservadas-python/#:~:text=As%20%E2%80%93%20Se%20utiliza%20para%20crear%20un%20alias%20al%20importar%20un%20m%C3%B3dulo.&text=Global%20%E2%80%93%20Para%20declarar%20una%20variable%20global.&text=Pass%20%E2%80%93%20Es%20una%20declaraci%C3%B3n%20nula%20en%20Python.\n"
      ],
      "metadata": {
        "id": "4LIbjTrh20nS"
      }
    },
    {
      "cell_type": "code",
      "source": [
        "frutas = [\"manzana\", \"banana\", \"cereza\"]\n",
        "\n",
        "if \"banana\" in frutas:\n",
        "    print(\"La banana está en la lista.\")"
      ],
      "metadata": {
        "colab": {
          "base_uri": "https://localhost:8080/"
        },
        "id": "3-dirW5820gJ",
        "outputId": "676d4483-cf67-4ae7-b29e-83892e6d54c9"
      },
      "execution_count": null,
      "outputs": [
        {
          "output_type": "stream",
          "name": "stdout",
          "text": [
            "La banana está en la lista.\n"
          ]
        }
      ]
    },
    {
      "cell_type": "markdown",
      "source": [
        "###Definición de 'Is'\n",
        "\n",
        "Se usa para probar si las dos variables se refieren al mismo objeto. Devuelve True si los objetos son idénticos y False si no\n",
        "\n",
        "Lo tomé de: https://eiposgrados.com/blog-python/palabras-reservadas-python/#:~:text=As%20%E2%80%93%20Se%20utiliza%20para%20crear%20un%20alias%20al%20importar%20un%20m%C3%B3dulo.&text=Global%20%E2%80%93%20Para%20declarar%20una%20variable%20global.&text=Pass%20%E2%80%93%20Es%20una%20declaraci%C3%B3n%20nula%20en%20Python.\n",
        "\n"
      ],
      "metadata": {
        "id": "6DSiz1OL3KQ_"
      }
    },
    {
      "cell_type": "code",
      "source": [
        "s1 = \"Hola\"\n",
        "s2 = \"Hola\"\n",
        "\n",
        "print(s1 is s2)"
      ],
      "metadata": {
        "colab": {
          "base_uri": "https://localhost:8080/"
        },
        "id": "8nolDx_A3KLO",
        "outputId": "5b3a85f0-1d1a-46da-9930-5a7c57f9e5c5"
      },
      "execution_count": null,
      "outputs": [
        {
          "output_type": "stream",
          "name": "stdout",
          "text": [
            "True\n"
          ]
        }
      ]
    },
    {
      "cell_type": "markdown",
      "source": [
        "###Definición de 'Lambda'\n",
        "\n",
        "Para crear una función anónima\n",
        "\n",
        "Lo tomé de: https://eiposgrados.com/blog-python/palabras-reservadas-python/#:~:text=As%20%E2%80%93%20Se%20utiliza%20para%20crear%20un%20alias%20al%20importar%20un%20m%C3%B3dulo.&text=Global%20%E2%80%93%20Para%20declarar%20una%20variable%20global.&text=Pass%20%E2%80%93%20Es%20una%20declaraci%C3%B3n%20nula%20en%20Python."
      ],
      "metadata": {
        "id": "gS-UnxOs4CJ1"
      }
    },
    {
      "cell_type": "code",
      "source": [
        "mayor = lambda x, y: x if x > y else y\n",
        "print(mayor(10, 5))"
      ],
      "metadata": {
        "colab": {
          "base_uri": "https://localhost:8080/"
        },
        "id": "PVJKFRdD4CBW",
        "outputId": "6d716a20-3b9d-41a6-eb2c-16b2219904d5"
      },
      "execution_count": null,
      "outputs": [
        {
          "output_type": "stream",
          "name": "stdout",
          "text": [
            "10\n"
          ]
        }
      ]
    },
    {
      "cell_type": "markdown",
      "source": [
        "###Definición de 'Nonlocal'\n",
        "\n",
        "Para declarar una variable no local\n",
        "\n",
        "Lo tomé de: https://eiposgrados.com/blog-python/palabras-reservadas-python/#:~:text=As%20%E2%80%93%20Se%20utiliza%20para%20crear%20un%20alias%20al%20importar%20un%20m%C3%B3dulo.&text=Global%20%E2%80%93%20Para%20declarar%20una%20variable%20global.&text=Pass%20%E2%80%93%20Es%20una%20declaraci%C3%B3n%20nula%20en%20Python."
      ],
      "metadata": {
        "id": "zccYhOIr4SL8"
      }
    },
    {
      "cell_type": "code",
      "source": [
        "def exterior():\n",
        "    mensaje = \"Liz ya no tiene paciencia\"\n",
        "\n",
        "    def interior():\n",
        "        nonlocal mensaje\n",
        "        mensaje = \"Mentira, Liz es buena y tiene paciencia :')\"\n",
        "\n",
        "    interior()\n",
        "    print(mensaje)\n",
        "\n",
        "exterior()"
      ],
      "metadata": {
        "colab": {
          "base_uri": "https://localhost:8080/"
        },
        "id": "KUNd3TtS4SGx",
        "outputId": "89c1d82b-f277-4620-fd8e-1bd708211a9c"
      },
      "execution_count": null,
      "outputs": [
        {
          "output_type": "stream",
          "name": "stdout",
          "text": [
            "Mentira, Liz es buena y tiene paciencia :')\n"
          ]
        }
      ]
    },
    {
      "cell_type": "markdown",
      "source": [
        "###Definición de 'Not'\n",
        "\n",
        "Operador lógico\n",
        "\n",
        "Lo tomé de: https://eiposgrados.com/blog-python/palabras-reservadas-python/#:~:text=As%20%E2%80%93%20Se%20utiliza%20para%20crear%20un%20alias%20al%20importar%20un%20m%C3%B3dulo.&text=Global%20%E2%80%93%20Para%20declarar%20una%20variable%20global.&text=Pass%20%E2%80%93%20Es%20una%20declaraci%C3%B3n%20nula%20en%20Python.\n"
      ],
      "metadata": {
        "id": "11cUSuWv4wbd"
      }
    },
    {
      "cell_type": "code",
      "source": [
        "lista = []\n",
        "\n",
        "if not lista:\n",
        "    print(\"La lista está vacía.\")"
      ],
      "metadata": {
        "colab": {
          "base_uri": "https://localhost:8080/"
        },
        "id": "Ivk6pyy74wUq",
        "outputId": "87965eb3-7069-4cc5-cbfe-daaae79862e9"
      },
      "execution_count": null,
      "outputs": [
        {
          "output_type": "stream",
          "name": "stdout",
          "text": [
            "La lista está vacía.\n"
          ]
        }
      ]
    },
    {
      "cell_type": "markdown",
      "source": [
        "###Definición de 'Or'\n",
        "\n",
        "Operador lógico\n",
        "\n",
        "Lo tomé de: https://eiposgrados.com/blog-python/palabras-reservadas-python/#:~:text=As%20%E2%80%93%20Se%20utiliza%20para%20crear%20un%20alias%20al%20importar%20un%20m%C3%B3dulo.&text=Global%20%E2%80%93%20Para%20declarar%20una%20variable%20global.&text=Pass%20%E2%80%93%20Es%20una%20declaraci%C3%B3n%20nula%20en%20Python.\n"
      ],
      "metadata": {
        "id": "9kPxwfu25Qcv"
      }
    },
    {
      "cell_type": "code",
      "source": [
        "temperatura = 30\n",
        "llueve = False\n",
        "nieve = False\n",
        "\n",
        "if temperatura > 25 or llueve or nieve:\n",
        "    print(\"No olvides protegerte del clima.\")"
      ],
      "metadata": {
        "colab": {
          "base_uri": "https://localhost:8080/"
        },
        "id": "bZBChqZW5QUw",
        "outputId": "5a6c9778-3d97-4ceb-bc5a-116ae76ee9fd"
      },
      "execution_count": null,
      "outputs": [
        {
          "output_type": "stream",
          "name": "stdout",
          "text": [
            "No olvides protegerte del clima.\n"
          ]
        }
      ]
    },
    {
      "cell_type": "markdown",
      "source": [
        " ###Definición de 'Pass'\n",
        "\n",
        "Es una declaración nula en Python. No pasa nada cuando se ejecuta. Se utiliza como marcador de posición.\n",
        "\n",
        "Lo tomé de: https://eiposgrados.com/blog-python/palabras-reservadas-python/#:~:text=As%20%E2%80%93%20Se%20utiliza%20para%20crear%20un%20alias%20al%20importar%20un%20m%C3%B3dulo.&text=Global%20%E2%80%93%20Para%20declarar%20una%20variable%20global.&text=Pass%20%E2%80%93%20Es%20una%20declaraci%C3%B3n%20nula%20en%20Python.\n",
        "\n"
      ],
      "metadata": {
        "id": "dOuXHVYv5mo_"
      }
    },
    {
      "cell_type": "code",
      "source": [
        "edad = 1000\n",
        "\n",
        "if edad >= 18:\n",
        "    print(\"Eres mayor de edad.\")\n",
        "else:\n",
        "    print(\"Usted es menor de edad.\")"
      ],
      "metadata": {
        "colab": {
          "base_uri": "https://localhost:8080/"
        },
        "id": "UW7tILGQ5mh8",
        "outputId": "0587fb0e-d82e-4f16-813d-1571df0a5a3d"
      },
      "execution_count": null,
      "outputs": [
        {
          "output_type": "stream",
          "name": "stdout",
          "text": [
            "Eres mayor de edad.\n"
          ]
        }
      ]
    },
    {
      "cell_type": "markdown",
      "source": [
        "###Definición de 'Raise'\n",
        "\n",
        "Se usa para crear excepciones, qué hacer cuando ocurre una excepción, igual que ‘except y ‘try’\n",
        "\n",
        "Lo tomé de: https://eiposgrados.com/blog-python/palabras-reservadas-python/#:~:text=As%20%E2%80%93%20Se%20utiliza%20para%20crear%20un%20alias%20al%20importar%20un%20m%C3%B3dulo.&text=Global%20%E2%80%93%20Para%20declarar%20una%20variable%20global.&text=Pass%20%E2%80%93%20Es%20una%20declaraci%C3%B3n%20nula%20en%20Python."
      ],
      "metadata": {
        "id": "2P2QKRJM5ygl"
      }
    },
    {
      "cell_type": "code",
      "source": [
        "raise Exception(\"¡Ha ocurrido un error!\")"
      ],
      "metadata": {
        "colab": {
          "base_uri": "https://localhost:8080/",
          "height": 141
        },
        "id": "lic9gP8G5yLT",
        "outputId": "2f901a13-0ffe-45ba-cd05-e146bb209031"
      },
      "execution_count": null,
      "outputs": [
        {
          "output_type": "error",
          "ename": "Exception",
          "evalue": "¡Ha ocurrido un error!",
          "traceback": [
            "\u001b[0;31m---------------------------------------------------------------------------\u001b[0m",
            "\u001b[0;31mException\u001b[0m                                 Traceback (most recent call last)",
            "\u001b[0;32m<ipython-input-27-08266823ee4e>\u001b[0m in \u001b[0;36m<cell line: 0>\u001b[0;34m()\u001b[0m\n\u001b[0;32m----> 1\u001b[0;31m \u001b[0;32mraise\u001b[0m \u001b[0mException\u001b[0m\u001b[0;34m(\u001b[0m\u001b[0;34m\"¡Ha ocurrido un error!\"\u001b[0m\u001b[0;34m)\u001b[0m\u001b[0;34m\u001b[0m\u001b[0;34m\u001b[0m\u001b[0m\n\u001b[0m",
            "\u001b[0;31mException\u001b[0m: ¡Ha ocurrido un error!"
          ]
        }
      ]
    },
    {
      "cell_type": "markdown",
      "source": [
        "###Definición de 'Return'\n",
        "\n",
        "Se usa dentro de una función para salir y devolver un valor.\n",
        "Lo tomé de: https://eiposgrados.com/blog-python/palabras-reservadas-python/#:~:text=As%20%E2%80%93%20Se%20utiliza%20para%20crear%20un%20alias%20al%20importar%20un%20m%C3%B3dulo.&text=Global%20%E2%80%93%20Para%20declarar%20una%20variable%20global.&text=Pass%20%E2%80%93%20Es%20una%20declaraci%C3%B3n%20nula%20en%20Python.\n",
        "\n"
      ],
      "metadata": {
        "id": "r1LUBvWv61yd"
      }
    },
    {
      "cell_type": "code",
      "source": [
        "def obtener_lista():\n",
        "    return [1, 2, 3, 4, 5]\n",
        "\n",
        "lista = obtener_lista()\n",
        "print(lista)"
      ],
      "metadata": {
        "colab": {
          "base_uri": "https://localhost:8080/"
        },
        "id": "0XIItSsk61sZ",
        "outputId": "13e7c6eb-ca62-4233-fe30-8d7dde8e13a4"
      },
      "execution_count": null,
      "outputs": [
        {
          "output_type": "stream",
          "name": "stdout",
          "text": [
            "[1, 2, 3, 4, 5]\n"
          ]
        }
      ]
    },
    {
      "cell_type": "markdown",
      "source": [
        "###Definición de 'Try'\n",
        "\n",
        "Se usa para crear excepciones, qué hacer cuando ocurre una excepción, igual que ‘raise’ y ‘except\n",
        "\n",
        "\n",
        "Lo tomé de: https://eiposgrados.com/blog-python/palabras-reservadas-python/#:~:text=As%20%E2%80%93%20Se%20utiliza%20para%20crear%20un%20alias%20al%20importar%20un%20m%C3%B3dulo.&text=Global%20%E2%80%93%20Para%20declarar%20una%20variable%20global.&text=Pass%20%E2%80%93%20Es%20una%20declaraci%C3%B3n%20nula%20en%20Python.\n"
      ],
      "metadata": {
        "id": "jfv7TEpT7N-x"
      }
    },
    {
      "cell_type": "code",
      "source": [
        "try:\n",
        "    resultado = 10 / 2\n",
        "except ZeroDivisionError:\n",
        "    print(\"No se puede dividir por cero.\")\n",
        "else:\n",
        "    print(f\"El resultado es {resultado}\")"
      ],
      "metadata": {
        "colab": {
          "base_uri": "https://localhost:8080/"
        },
        "id": "yQkA2Jl27N1j",
        "outputId": "dc90e69a-3242-4e69-c08b-0bbf5a50c704"
      },
      "execution_count": null,
      "outputs": [
        {
          "output_type": "stream",
          "name": "stdout",
          "text": [
            "El resultado es 5.0\n"
          ]
        }
      ]
    },
    {
      "cell_type": "markdown",
      "source": [
        "###Definición de 'While'\n",
        "\n",
        "Se usa para realizar bucles.\n",
        "\n",
        "Lo tomé de: https://eiposgrados.com/blog-python/palabras-reservadas-python/#:~:text=As%20%E2%80%93%20Se%20utiliza%20para%20crear%20un%20alias%20al%20importar%20un%20m%C3%B3dulo.&text=Global%20%E2%80%93%20Para%20declarar%20una%20variable%20global.&text=Pass%20%E2%80%93%20Es%20una%20declaraci%C3%B3n%20nula%20en%20Python.\n"
      ],
      "metadata": {
        "id": "jPQBzq-g7ned"
      }
    },
    {
      "cell_type": "code",
      "source": [
        "numero = int(input(\"Ingresa un número positivo: \"))\n",
        "while numero < 0:\n",
        "    print(\"Número inválido. Inténtalo de nuevo.\")\n",
        "    numero = int(input(\"Ingresa un número positivo: \"))\n",
        "print(f\"Número válido: {numero}\")"
      ],
      "metadata": {
        "colab": {
          "base_uri": "https://localhost:8080/"
        },
        "id": "PHctrUU-7i29",
        "outputId": "b7162cd1-7253-4b04-a0e3-299201950943"
      },
      "execution_count": null,
      "outputs": [
        {
          "output_type": "stream",
          "name": "stdout",
          "text": [
            "Ingresa un número positivo: -9\n",
            "Número inválido. Inténtalo de nuevo.\n",
            "Ingresa un número positivo: -12\n",
            "Número inválido. Inténtalo de nuevo.\n",
            "Ingresa un número positivo: 3\n",
            "Número válido: 3\n"
          ]
        }
      ]
    },
    {
      "cell_type": "markdown",
      "source": [
        "###Definición de 'Whit'\n",
        "\n",
        "Se usa para simplificar el manejo de excepciones.\n",
        "\n",
        "Lo tomé de: https://eiposgrados.com/blog-python/palabras-reservadas-python/#:~:text=As%20%E2%80%93%20Se%20utiliza%20para%20crear%20un%20alias%20al%20importar%20un%20m%C3%B3dulo.&text=Global%20%E2%80%93%20Para%20declarar%20una%20variable%20global.&text=Pass%20%E2%80%93%20Es%20una%20declaraci%C3%B3n%20nula%20en%20Python.\n"
      ],
      "metadata": {
        "id": "JBNa9B9v7yWb"
      }
    },
    {
      "cell_type": "code",
      "source": [
        "import threading\n",
        "\n",
        "bloqueo = threading.Lock()\n",
        "\n",
        "def tarea():\n",
        "    with bloqueo:\n",
        "        print(\"Ejecutando tarea con bloqueo.\")\n",
        "\n",
        "tarea()"
      ],
      "metadata": {
        "colab": {
          "base_uri": "https://localhost:8080/"
        },
        "id": "2wX7qhF17yCr",
        "outputId": "7c0f1e76-9bd4-4bef-c406-1e281791018c"
      },
      "execution_count": null,
      "outputs": [
        {
          "output_type": "stream",
          "name": "stdout",
          "text": [
            "Ejecutando tarea con bloqueo.\n"
          ]
        }
      ]
    },
    {
      "cell_type": "markdown",
      "source": [
        "###Definición de 'Yield'\n",
        "\n",
        "Se usa dentro de una función al igual que ‘return’, salvo que ‘yield’ devuelve un generador.\n",
        "\n",
        "Lo tomé de: https://eiposgrados.com/blog-python/palabras-reservadas-python/#:~:text=As%20%E2%80%93%20Se%20utiliza%20para%20crear%20un%20alias%20al%20importar%20un%20m%C3%B3dulo.&text=Global%20%E2%80%93%20Para%20declarar%20una%20variable%20global.&text=Pass%20%E2%80%93%20Es%20una%20declaraci%C3%B3n%20nula%20en%20Python.\n",
        "\n"
      ],
      "metadata": {
        "id": "KJNgoONc75-y"
      }
    },
    {
      "cell_type": "code",
      "source": [
        "def contar_hasta(n):\n",
        "    for i in range(1, n + 1):\n",
        "        yield i\n",
        "\n",
        "for numero in contar_hasta(5):\n",
        "    print(numero)"
      ],
      "metadata": {
        "colab": {
          "base_uri": "https://localhost:8080/"
        },
        "id": "u0CBMX3S75vZ",
        "outputId": "1fc0e2eb-01b1-4db2-8429-cd4a0f96d203"
      },
      "execution_count": null,
      "outputs": [
        {
          "output_type": "stream",
          "name": "stdout",
          "text": [
            "1\n",
            "2\n",
            "3\n",
            "4\n",
            "5\n"
          ]
        }
      ]
    },
    {
      "cell_type": "markdown",
      "source": [
        "###Definición de 'Async'\n",
        "\n",
        "Proporcionada por la biblioteca ‘asyncio’ en Python. Se utiliza para escribir código concurrente en Python\n",
        "\n",
        "Lo tomé de: https://eiposgrados.com/blog-python/palabras-reservadas-python/#:~:text=As%20%E2%80%93%20Se%20utiliza%20para%20crear%20un%20alias%20al%20importar%20un%20m%C3%B3dulo.&text=Global%20%E2%80%93%20Para%20declarar%20una%20variable%20global.&text=Pass%20%E2%80%93%20Es%20una%20declaraci%C3%B3n%20nula%20en%20Python.\n"
      ],
      "metadata": {
        "id": "0gLmddF-OTUr"
      }
    },
    {
      "cell_type": "code",
      "source": [
        "import asyncio\n",
        "\n",
        "async def tarea(nombre, tiempo):\n",
        "    print(f\"Comenzando {nombre}...\")\n",
        "    await asyncio.sleep(tiempo)\n",
        "    print(f\"{nombre} finalizada después de {tiempo} segundos.\")\n",
        "\n",
        "async def main():\n",
        "\n",
        "    await asyncio.gather(\n",
        "        tarea(\"Tarea 1\", 2),\n",
        "        tarea(\"Tarea 2\", 3),\n",
        "        tarea(\"Tarea 3\", 1)\n",
        "    )\n",
        "\n",
        "\n"
      ],
      "metadata": {
        "id": "rWAIQC3MOTL6"
      },
      "execution_count": null,
      "outputs": []
    },
    {
      "cell_type": "markdown",
      "source": [
        "###Definición de 'Await'\n",
        "\n",
        "Proporcionada por la biblioteca ‘asyncio’ en Python. Se utiliza para escribir código concurrente en Python\n",
        "\n",
        "Lo tomé de: https://eiposgrados.com/blog-python/palabras-reservadas-python/#:~:text=As%20%E2%80%93%20Se%20utiliza%20para%20crear%20un%20alias%20al%20importar%20un%20m%C3%B3dulo.&text=Global%20%E2%80%93%20Para%20declarar%20una%20variable%20global.&text=Pass%20%E2%80%93%20Es%20una%20declaraci%C3%B3n%20nula%20en%20Python.\n"
      ],
      "metadata": {
        "id": "hBIVWh3nO4Qx"
      }
    },
    {
      "cell_type": "code",
      "source": [
        "import asyncio\n",
        "\n",
        "async def saludar(nombre):\n",
        "    await asyncio.sleep(2)  # Espera asíncrona de 2 segundos\n",
        "    print(f\"¡Hola, {nombre}!\")\n",
        "\n",
        "async def main():\n",
        "    print(\"Iniciando saludo...\")\n",
        "    await saludar(\"Alice\")  # Espera hasta que 'saludar' termine\n",
        "    print(\"Saludo completado.\")"
      ],
      "metadata": {
        "id": "Eoo2u-7ZO4KZ"
      },
      "execution_count": null,
      "outputs": []
    },
    {
      "cell_type": "markdown",
      "source": [
        "###Definición de '__peg_parser__'\n",
        "\n",
        "Llamado huevo de pascua, relacionado con el lanzamiento del nuevo analizador PEG no está definido aún.\n",
        "\n",
        "Lo tomé de: https://eiposgrados.com/blog-python/palabras-reservadas-python/#:~:text=As%20%E2%80%93%20Se%20utiliza%20para%20crear%20un%20alias%20al%20importar%20un%20m%C3%B3dulo.&text=Global%20%E2%80%93%20Para%20declarar%20una%20variable%20global.&text=Pass%20%E2%80%93%20Es%20una%20declaraci%C3%B3n%20nula%20en%20Python.\n",
        "\n"
      ],
      "metadata": {
        "id": "npwJLRDMPaZw"
      }
    },
    {
      "cell_type": "code",
      "source": [
        "from lark import Lark, Transformer\n",
        "\n",
        "gramatica = \"\"\"\n",
        "    ?start: expresion\n",
        "    ?expresion: termino\n",
        "              | expresion \"AND\" termino -> and_op\n",
        "              | expresion \"OR\" termino  -> or_op\n",
        "              | \"NOT\" expresion         -> not_op\n",
        "    ?termino: \"TRUE\"                    -> true_val\n",
        "            | \"FALSE\"                   -> false_val\n",
        "            | \"(\" expresion \")\"\n",
        "    %import common.WS\n",
        "    %ignore WS\n",
        "\"\"\"\n",
        "\n",
        "class Evaluador(Transformer):\n",
        "    def true_val(self, _):\n",
        "        return True\n",
        "\n",
        "    def false_val(self, _):\n",
        "        return False\n",
        "\n",
        "    def and_op(self, args):\n",
        "        return args[0] and args[1]\n",
        "\n",
        "    def or_op(self, args):\n",
        "        return args[0] or args[1]\n",
        "\n",
        "    def not_op(self, args):\n",
        "        return not args[0]\n",
        "\n",
        "parser = Lark(gramatica, parser='lalr', transformer=Evaluador())\n",
        "\n",
        "expresiones = [\n",
        "    \"TRUE AND FALSE\",\n",
        "    \"TRUE OR FALSE\",\n",
        "    \"NOT TRUE\",\n",
        "    \"(TRUE OR FALSE) AND NOT FALSE\"\n",
        "]\n",
        "\n",
        "for exp in expresiones:\n",
        "    resultado = parser.parse(exp)\n",
        "    print(f\"Resultado de '{exp}': {resultado}\")"
      ],
      "metadata": {
        "colab": {
          "base_uri": "https://localhost:8080/",
          "height": 106
        },
        "id": "iI0e97P_QLHg",
        "outputId": "9d8fd2d8-a7da-464a-f35f-2933c4eab0ec"
      },
      "execution_count": null,
      "outputs": [
        {
          "output_type": "error",
          "ename": "SyntaxError",
          "evalue": "invalid syntax (<ipython-input-10-8be22e45334b>, line 1)",
          "traceback": [
            "\u001b[0;36m  File \u001b[0;32m\"<ipython-input-10-8be22e45334b>\"\u001b[0;36m, line \u001b[0;32m1\u001b[0m\n\u001b[0;31m    from lark\u001b[0m\n\u001b[0m              ^\u001b[0m\n\u001b[0;31mSyntaxError\u001b[0m\u001b[0;31m:\u001b[0m invalid syntax\n"
          ]
        }
      ]
    },
    {
      "cell_type": "markdown",
      "source": [
        "###Definición de 'except'\n",
        "\n",
        "Se usa para crear excepciones, qué hacer cuando ocurre una excepción, igual que ‘raise’ y ‘try’\n",
        "\n",
        "Lo tomé de: https://eiposgrados.com/blog-python/palabras-reservadas-python/#:~:text=As%20%E2%80%93%20Se%20utiliza%20para%20crear%20un%20alias%20al%20importar%20un%20m%C3%B3dulo.&text=Global%20%E2%80%93%20Para%20declarar%20una%20variable%20global.&text=Pass%20%E2%80%93%20Es%20una%20declaraci%C3%B3n%20nula%20en%20Python.\n"
      ],
      "metadata": {
        "id": "70ac0oF9Qs1Y"
      }
    },
    {
      "cell_type": "code",
      "source": [
        "try:\n",
        "    numero = int(input(\"Ingresa un número: \"))\n",
        "    resultado = 10 / numero\n",
        "    print(f\"El resultado de dividir 10 entre {numero} es {resultado}\")\n",
        "except ValueError:\n",
        "    print(\"Error: Debes ingresar un número entero válido.\")\n",
        "except ZeroDivisionError:\n",
        "    print(\"Error: No se puede dividir entre cero.\")\n",
        "except Exception as e:  # Captura cualquier otra excepción\n",
        "    print(f\"Ha ocurrido un error inesperado: {e}\")\n",
        "finally:\n",
        "    print(\"Fin del manejo de excepciones.\")"
      ],
      "metadata": {
        "colab": {
          "base_uri": "https://localhost:8080/"
        },
        "id": "PwU25Vv3Qsxo",
        "outputId": "2886e82c-e6b7-4527-d542-e6b5fd9a4fbd"
      },
      "execution_count": null,
      "outputs": [
        {
          "output_type": "stream",
          "name": "stdout",
          "text": [
            "Ingresa un número: 5\n",
            "El resultado de dividir 10 entre 5 es 2.0\n",
            "Fin del manejo de excepciones.\n"
          ]
        }
      ]
    },
    {
      "cell_type": "markdown",
      "source": [
        "###Definición de 'case'\n",
        "\n",
        "La palabra clave case se utiliza para definir los diferentes casos, y se ejecuta el código debajo de cada caso si la expresión coincide con el caso.\n",
        "\n",
        "Lo tomé de: https://docs.kanaries.net/es/topics/Python/python-u-switch"
      ],
      "metadata": {
        "id": "WdXcL9IVRt7P"
      }
    },
    {
      "cell_type": "code",
      "source": [
        "def clasificar_dia(dia):\n",
        "    match dia.lower():\n",
        "        case \"lunes\" | \"martes\" | \"miércoles\" | \"jueves\" | \"viernes\":\n",
        "            print(f\"{dia.capitalize()} es un día laboral.\")\n",
        "        case \"sábado\" | \"domingo\":\n",
        "            print(f\"{dia.capitalize()} es un día de fin de semana.\")\n",
        "        case _:\n",
        "            print(\"Entrada no válida. Intenta con un día de la semana.\")"
      ],
      "metadata": {
        "id": "s0waZuHPRt3I"
      },
      "execution_count": null,
      "outputs": []
    },
    {
      "cell_type": "markdown",
      "source": [
        "###Definición de 'match'\n",
        "\n",
        "Función match() con la instrucción match para comparar cadenas mediante expresiones regulares . Esto es especialmente útil si se busca un patrón de cadena para comparar o comparar, como al validar formatos de correo electrónico.\n",
        "\n",
        "Lo tomé de: https://mimo.org/glossary/python/match-statement"
      ],
      "metadata": {
        "id": "uyx4g0F-UCCd"
      }
    },
    {
      "cell_type": "code",
      "source": [
        "def match_numbers(num):\n",
        "    match num:\n",
        "        case 1:\n",
        "            return \"One\"\n",
        "        case 2:\n",
        "            return \"Two\"\n",
        "        case _:\n",
        "            return \"Other\""
      ],
      "metadata": {
        "id": "tEZ3--7aUB9V"
      },
      "execution_count": null,
      "outputs": []
    },
    {
      "cell_type": "markdown",
      "source": [
        "###Definición de 'asign'\n",
        "\n",
        "la función assign es una herramienta útil para crear nuevas columnas en un DataFrame a partir de columnas existentes u otros datos.\n",
        "\n",
        "Lo tomé de: https://mimo.org/glossary/python/match-statement\n",
        "\n"
      ],
      "metadata": {
        "id": "MtkgmuomUiQ9"
      }
    },
    {
      "cell_type": "code",
      "source": [
        "nombre = \"Liz, lo más hermoso :3\"\n",
        "edad = 18\n",
        "altura = 1.75\n",
        "\n",
        "print(f\"Nombre: {nombre}, Edad: {edad}, Altura: {altura}\")"
      ],
      "metadata": {
        "colab": {
          "base_uri": "https://localhost:8080/"
        },
        "id": "84zn5N_pUiKU",
        "outputId": "7c7f78fa-f005-43d1-e626-bfd99f37bac7"
      },
      "execution_count": null,
      "outputs": [
        {
          "output_type": "stream",
          "name": "stdout",
          "text": [
            "Nombre: Liz, lo más hermoso :3, Edad: 18, Altura: 1.75\n"
          ]
        }
      ]
    },
    {
      "cell_type": "markdown",
      "source": [
        "###Definición de 'int'\n",
        "\n",
        "La función int devuelve un número entero a partir de un número o de un string, o devuelve el valor 0 si no se incluye ningún argumento.\n",
        "\n",
        "Lo tomé de: https://interactivechaos.com/es/python/function/int\n"
      ],
      "metadata": {
        "id": "V610cepBU9I8"
      }
    },
    {
      "cell_type": "code",
      "source": [
        "numero_str = \"42\"\n",
        "numero_int = int(numero_str)\n",
        "print(f\"Valor como cadena: {numero_str} (tipo: {type(numero_str)})\")\n",
        "print(f\"Valor como entero: {numero_int} (tipo: {type(numero_int)})\")\n",
        "\n",
        "flotante = 3.14\n",
        "entero = int(flotante)\n",
        "print(f\"Flotante: {flotante} -> Entero: {entero}\")\n",
        "\n",
        "binario = \"1010\"\n",
        "octal = \"12\"\n",
        "hexadecimal = \"A\"\n",
        "\n",
        "print(f\"Binario '1010' como entero: {int(binario, 2)}\")\n",
        "print(f\"Octal '12' como entero: {int(octal, 8)}\")\n",
        "print(f\"Hexadecimal 'A' como entero: {int(hexadecimal, 16)}\")"
      ],
      "metadata": {
        "colab": {
          "base_uri": "https://localhost:8080/"
        },
        "id": "5IG2ezVPU9EF",
        "outputId": "8aeb87b1-09cb-45f2-adae-4c5ac7f7bcf2"
      },
      "execution_count": null,
      "outputs": [
        {
          "output_type": "stream",
          "name": "stdout",
          "text": [
            "Valor como cadena: 42 (tipo: <class 'str'>)\n",
            "Valor como entero: 42 (tipo: <class 'int'>)\n",
            "Flotante: 3.14 -> Entero: 3\n",
            "Binario '1010' como entero: 10\n",
            "Octal '12' como entero: 10\n",
            "Hexadecimal 'A' como entero: 10\n"
          ]
        }
      ]
    },
    {
      "cell_type": "markdown",
      "source": [
        "###Definición de 'float'\n",
        "\n",
        "El tipo numérico float permite representar un número positivo o negativo con decimales, es decir, números reales. Si vienes de otros lenguajes, tal vez conozcas el tipo doble, lo que significa que tiene el doble de precisión que un float. En Python las cosas son algo distintas, y los float son en realidad double.\n",
        "Lo tomé de: https://ellibrodepython.com/float-python\n",
        "\n"
      ],
      "metadata": {
        "id": "6yPdrF2PVha8"
      }
    },
    {
      "cell_type": "code",
      "source": [
        "a = float(True)\n",
        "b = float(1)\n",
        "print(a, type(a)) #1.0 <class 'float'>\n",
        "print(b, type(b)) #1.0 <class 'float'>"
      ],
      "metadata": {
        "colab": {
          "base_uri": "https://localhost:8080/"
        },
        "id": "iSBeqd8UVhVM",
        "outputId": "fcbc2bdc-30ea-48c5-a875-7f3ebdb18dc0"
      },
      "execution_count": null,
      "outputs": [
        {
          "output_type": "stream",
          "name": "stdout",
          "text": [
            "1.0 <class 'float'>\n",
            "1.0 <class 'float'>\n"
          ]
        }
      ]
    }
  ]
}