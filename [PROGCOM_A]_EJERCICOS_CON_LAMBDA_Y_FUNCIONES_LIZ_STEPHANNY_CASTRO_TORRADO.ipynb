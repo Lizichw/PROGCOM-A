{
  "nbformat": 4,
  "nbformat_minor": 0,
  "metadata": {
    "colab": {
      "provenance": []
    },
    "kernelspec": {
      "name": "python3",
      "display_name": "Python 3"
    },
    "language_info": {
      "name": "python"
    }
  },
  "cells": [
    {
      "cell_type": "code",
      "execution_count": 4,
      "metadata": {
        "colab": {
          "base_uri": "https://localhost:8080/"
        },
        "id": "0j5YiLLzrV8n",
        "outputId": "79a2f993-df23-4475-a81c-193775c28584"
      },
      "outputs": [
        {
          "output_type": "stream",
          "name": "stdout",
          "text": [
            "40353607\n"
          ]
        }
      ],
      "source": [
        "#25. Crea un programa que calcule la potencia de un número sin usar el operador **.\n",
        "#LAMBDA\n",
        "\n",
        "pot_lambda = lambda base, exponente: 1 / (base**-exponente) if exponente<0 else base*pot_lambda(base, exponente-1) if exponente>0 else 1\n",
        "\n",
        "\n",
        "base = 7\n",
        "exponente = 9\n",
        "print(pot_lambda(base, exponente))"
      ]
    },
    {
      "cell_type": "code",
      "source": [
        "#25. Crea un programa que calcule la potencia de un número sin usar el operador **.\n",
        "#SIN LAMBDA\n",
        "\n",
        "def pot(base, exponente):\n",
        "    resultado = 1\n",
        "    for _ in range(abs(exponente)):\n",
        "        resultado *= base\n",
        "    if exponente < 0:\n",
        "        return 1 / resultado\n",
        "    return resultado\n",
        "base = 8\n",
        "exponente = 2\n",
        "print(pot(base,exponente))\n",
        "\n"
      ],
      "metadata": {
        "colab": {
          "base_uri": "https://localhost:8080/"
        },
        "id": "MqHt84dUrz6e",
        "outputId": "5c11ff77-7cbf-4c21-e455-4bf0ab5ba275"
      },
      "execution_count": 5,
      "outputs": [
        {
          "output_type": "stream",
          "name": "stdout",
          "text": [
            "64\n"
          ]
        }
      ]
    },
    {
      "cell_type": "code",
      "source": [
        "#26. Escribe un programa que muestre todas las tablas de multiplicar del 1 al 10.\n",
        "#LAMBDA\n",
        "\n",
        "numero = int(input(\"Ingrese un número: \"))\n",
        "tabla = list(map(lambda x: f\"{numero} x {x} = {numero * x}\", range(1, 11)))\n",
        "print(\"\\n\".join(tabla))\n"
      ],
      "metadata": {
        "colab": {
          "base_uri": "https://localhost:8080/"
        },
        "id": "VwbFeOZNsMBw",
        "outputId": "79809205-e589-447f-a3cf-27eaf9aecc70"
      },
      "execution_count": 10,
      "outputs": [
        {
          "output_type": "stream",
          "name": "stdout",
          "text": [
            "Ingrese un número: 556\n",
            "556 x 1 = 556\n",
            "556 x 2 = 1112\n",
            "556 x 3 = 1668\n",
            "556 x 4 = 2224\n",
            "556 x 5 = 2780\n",
            "556 x 6 = 3336\n",
            "556 x 7 = 3892\n",
            "556 x 8 = 4448\n",
            "556 x 9 = 5004\n",
            "556 x 10 = 5560\n"
          ]
        }
      ]
    },
    {
      "cell_type": "code",
      "source": [
        "#26. Escribe un programa que muestre todas las tablas de multiplicar del 1 al 10.\n",
        "#SIN LAMBDA\n",
        "\n",
        "while True:\n",
        "    try:\n",
        "        num = int(input(\"Ingrese un número: \"))\n",
        "        print(f\"\\nTabla de multiplicar de {num}:\")\n",
        "        for i in range(1, 11):\n",
        "            print(f\"{num} x {i} = {num * i}\")\n",
        "\n",
        "        segunda_tabla = input(\"\\n¿Desea mirar otra tabla de multiplicar? (sí/no): \").lower()\n",
        "        if segunda_tabla != \"sí\":\n",
        "            print(\"¡Gracias por usar el programa!\")\n",
        "            break\n",
        "\n",
        "    except ValueError:\n",
        "        print(\"Por favor, ingresa un número válido. Intenta nuevamente.\")"
      ],
      "metadata": {
        "colab": {
          "base_uri": "https://localhost:8080/"
        },
        "id": "ifUwWOfHsL_C",
        "outputId": "978159b0-7767-4a28-f087-d7644f273e37"
      },
      "execution_count": 8,
      "outputs": [
        {
          "output_type": "stream",
          "name": "stdout",
          "text": [
            "Ingrese un número: 78\n",
            "\n",
            "Tabla de multiplicar de 78:\n",
            "78 x 1 = 78\n",
            "78 x 2 = 156\n",
            "78 x 3 = 234\n",
            "78 x 4 = 312\n",
            "78 x 5 = 390\n",
            "78 x 6 = 468\n",
            "78 x 7 = 546\n",
            "78 x 8 = 624\n",
            "78 x 9 = 702\n",
            "78 x 10 = 780\n",
            "\n",
            "¿Desea mirar otra tabla de multiplicar? (sí/no): no\n",
            "¡Gracias por usar el programa!\n"
          ]
        }
      ]
    },
    {
      "cell_type": "code",
      "source": [
        "#27. Desarrolla un programa que encuentre todos los números perfectos hasta n.\n",
        "#LAMBDA\n",
        "\n",
        "n = int(input(\"Ingrese un número: \"))\n",
        "es_perfecto = lambda num: num > 1 and sum(filter(lambda x: num % x == 0, range(1, num))) == num\n",
        "numeros_perfectos = list(filter(es_perfecto, range(1, n + 1)))\n",
        "print(\"Números perfectos hasta\", n, \":\", numeros_perfectos)\n"
      ],
      "metadata": {
        "colab": {
          "base_uri": "https://localhost:8080/"
        },
        "id": "vLr8fn5asv-e",
        "outputId": "6060666f-3112-4b2d-d619-80f82d842555"
      },
      "execution_count": 12,
      "outputs": [
        {
          "output_type": "stream",
          "name": "stdout",
          "text": [
            "Ingrese un número: 66\n",
            "Números perfectos hasta 66 : [6, 28]\n"
          ]
        }
      ]
    },
    {
      "cell_type": "code",
      "source": [
        "#27. Desarrolla un programa que encuentre todos los números perfectos hasta n.\n",
        "#SIN LAMBDA\n",
        "\n",
        "def es_perfecto(num):\n",
        "    if num < 2:\n",
        "        return False\n",
        "    suma_divisores = sum(x for x in range(1, num) if num % x == 0)\n",
        "    return suma_divisores == num\n",
        "\n",
        "n = int(input(\"Ingrese un número: \"))\n",
        "numeros_perfectos = [num for num in range(1, n + 1) if es_perfecto(num)]\n",
        "print(\"Números perfectos hasta\", n, \":\", numeros_perfectos)"
      ],
      "metadata": {
        "colab": {
          "base_uri": "https://localhost:8080/"
        },
        "id": "gACrkIYWsv7g",
        "outputId": "d16c619c-be5e-44f8-d077-89eed98579d8"
      },
      "execution_count": 2,
      "outputs": [
        {
          "output_type": "stream",
          "name": "stdout",
          "text": [
            "Ingrese un número: 3\n",
            "Números perfectos hasta 3 : []\n"
          ]
        }
      ]
    },
    {
      "cell_type": "code",
      "source": [
        "#28. Crea un programa que genere un patrón de diamante con asteriscos.\n",
        "#LAMBDA\n",
        "\n",
        "n = int(input(\"Ingrese el tamaño del diamante (número impar): \"))\n",
        "generar_linea = lambda i, n: ' ' * ((n - i) // 2) + '*' * i\n",
        "diamante = [generar_linea(i, n) for i in range(1, n + 1, 2)]\n",
        "diamante += [generar_linea(i, n) for i in range(n - 2, 0, -2)]\n",
        "print(\"\\n\".join(diamante))"
      ],
      "metadata": {
        "colab": {
          "base_uri": "https://localhost:8080/"
        },
        "id": "ckhoq4IIuF3t",
        "outputId": "651927b4-7ad9-4961-c90b-ba4c7b233860"
      },
      "execution_count": 3,
      "outputs": [
        {
          "output_type": "stream",
          "name": "stdout",
          "text": [
            "Ingrese el tamaño del diamante (número impar): 9\n",
            "    *\n",
            "   ***\n",
            "  *****\n",
            " *******\n",
            "*********\n",
            " *******\n",
            "  *****\n",
            "   ***\n",
            "    *\n"
          ]
        }
      ]
    },
    {
      "cell_type": "code",
      "source": [
        "#28. Crea un programa que genere un patrón de diamante con asteriscos.\n",
        "#SIN LAMBDA\n",
        "\n",
        "def generar_linea(i, n):\n",
        "    return ' ' * ((n - i) // 2) + '*' * i\n",
        "\n",
        "n = int(input(\"Ingrese el tamaño del diamante (número impar): \"))\n",
        "\n",
        "diamante = []\n",
        "for i in range(1, n + 1, 2):\n",
        "    diamante.append(generar_linea(i, n))\n",
        "for i in range(n - 2, 0, -2):\n",
        "    diamante.append(generar_linea(i, n))\n",
        "print(\"\\n\".join(diamante))"
      ],
      "metadata": {
        "colab": {
          "base_uri": "https://localhost:8080/"
        },
        "id": "ZQV9bzuouF1n",
        "outputId": "0d189c76-948f-4070-e31a-c44100919e41"
      },
      "execution_count": 1,
      "outputs": [
        {
          "output_type": "stream",
          "name": "stdout",
          "text": [
            "Ingrese el tamaño del diamante (número impar): 5\n",
            "  *\n",
            " ***\n",
            "*****\n",
            " ***\n",
            "  *\n"
          ]
        }
      ]
    },
    {
      "cell_type": "code",
      "source": [
        "#29. Escribe un programa que encuentre todos los números Armstrong hasta n.\n",
        "#LAMBDA\n",
        "n = int(input(\"Ingrese un número: \"))\n",
        "\n",
        "# Función lambda para verificar si un número es un número de Armstrong\n",
        "es_armstrong = lambda num: num == sum(int(d) ** len(str(num)) for d in str(num))\n",
        "\n",
        "# Usamos filter con la función lambda para encontrar todos los números Armstrong hasta n\n",
        "numeros_armstrong = list(filter(es_armstrong, range(1, n + 1)))\n",
        "\n",
        "# Imprimimos los números Armstrong encontrados\n",
        "print(\"Números Armstrong hasta\", n, \":\", numeros_armstrong)\n"
      ],
      "metadata": {
        "colab": {
          "base_uri": "https://localhost:8080/"
        },
        "id": "IitOMSvEuhFU",
        "outputId": "8dff93ff-3545-4354-b982-04ae1c2930f0"
      },
      "execution_count": 4,
      "outputs": [
        {
          "output_type": "stream",
          "name": "stdout",
          "text": [
            "Ingrese un número: 22\n",
            "Números Armstrong hasta 22 : [1, 2, 3, 4, 5, 6, 7, 8, 9]\n"
          ]
        }
      ]
    },
    {
      "cell_type": "code",
      "source": [
        "#29. Escribe un programa que encuentre todos los números Armstrong hasta n.\n",
        "#SIN\n",
        "\n",
        "def es_armstrong(num):\n",
        "    suma = sum(int(d) ** len(str(num)) for d in str(num))\n",
        "    return num == suma\n",
        "\n",
        "def encontrar_numeros_armstrong(n):\n",
        "    return [num for num in range(1, n + 1) if es_armstrong(num)]\n",
        "\n",
        "n = int(input(\"Ingrese un número: \"))\n",
        "numeros_armstrong = encontrar_numeros_armstrong(n)\n",
        "\n",
        "print(\"Números Armstrong hasta\", n, \":\", numeros_armstrong)"
      ],
      "metadata": {
        "colab": {
          "base_uri": "https://localhost:8080/"
        },
        "id": "m9rrZSuUuhDu",
        "outputId": "2d71a47f-2731-4f56-98e1-ad21f37518be"
      },
      "execution_count": 5,
      "outputs": [
        {
          "output_type": "stream",
          "name": "stdout",
          "text": [
            "Ingrese un número: 67\n",
            "Números Armstrong hasta 67 : [1, 2, 3, 4, 5, 6, 7, 8, 9]\n"
          ]
        }
      ]
    },
    {
      "cell_type": "code",
      "source": [
        "#30. Desarrolla un programa que simule un reloj digital mostrando horas, minutos y segundos durante un período específico.\n",
        "#LAMBDA\n",
        "\n",
        "import time\n",
        "formato_tiempo = lambda h, m, s: f\"{h:02}:{m:02}:{s:02}\"\n",
        "\n",
        "def reloj_digital(duracion):\n",
        "    h, m, s = 0, 0, 0\n",
        "    for _ in range(duracion):\n",
        "        print(formato_tiempo(h, m, s))\n",
        "        time.sleep(1)\n",
        "        s += 1\n",
        "        if s == 60:\n",
        "            s = 0\n",
        "            m += 1\n",
        "        if m == 60:\n",
        "            m = 0\n",
        "            h += 1\n",
        "\n",
        "duracion = int(input(\"Ingrese la duración en segundos: \"))\n",
        "reloj_digital(duracion)\n"
      ],
      "metadata": {
        "colab": {
          "base_uri": "https://localhost:8080/"
        },
        "id": "WaPtzdmJvHt-",
        "outputId": "a2fc03c0-c84b-42dd-f216-78b79ec3f927"
      },
      "execution_count": 6,
      "outputs": [
        {
          "output_type": "stream",
          "name": "stdout",
          "text": [
            "Ingrese la duración en segundos: 56\n",
            "00:00:00\n",
            "00:00:01\n",
            "00:00:02\n",
            "00:00:03\n",
            "00:00:04\n",
            "00:00:05\n",
            "00:00:06\n",
            "00:00:07\n",
            "00:00:08\n",
            "00:00:09\n",
            "00:00:10\n",
            "00:00:11\n",
            "00:00:12\n",
            "00:00:13\n",
            "00:00:14\n",
            "00:00:15\n",
            "00:00:16\n",
            "00:00:17\n",
            "00:00:18\n",
            "00:00:19\n",
            "00:00:20\n",
            "00:00:21\n",
            "00:00:22\n",
            "00:00:23\n",
            "00:00:24\n",
            "00:00:25\n",
            "00:00:26\n",
            "00:00:27\n",
            "00:00:28\n",
            "00:00:29\n",
            "00:00:30\n",
            "00:00:31\n",
            "00:00:32\n",
            "00:00:33\n",
            "00:00:34\n",
            "00:00:35\n",
            "00:00:36\n",
            "00:00:37\n",
            "00:00:38\n",
            "00:00:39\n",
            "00:00:40\n",
            "00:00:41\n",
            "00:00:42\n",
            "00:00:43\n",
            "00:00:44\n",
            "00:00:45\n",
            "00:00:46\n",
            "00:00:47\n",
            "00:00:48\n",
            "00:00:49\n",
            "00:00:50\n",
            "00:00:51\n",
            "00:00:52\n",
            "00:00:53\n",
            "00:00:54\n",
            "00:00:55\n"
          ]
        }
      ]
    },
    {
      "cell_type": "code",
      "source": [
        "#30. Desarrolla un programa que simule un reloj digital mostrando horas, minutos y segundos durante un período específico.\n",
        "#SIN LAMBDA\n",
        "import time\n",
        "\n",
        "def formato_tiempo(h, m, s):\n",
        "    return f\"{h:02}:{m:02}:{s:02}\"\n",
        "\n",
        "def reloj_digital(duracion):\n",
        "    h, m, s = 0, 0, 0\n",
        "    for _ in range(duracion):\n",
        "        print(formato_tiempo(h, m, s))\n",
        "        time.sleep(1)\n",
        "        s += 1\n",
        "        if s == 60:\n",
        "            s = 0\n",
        "            m += 1\n",
        "        if m == 60:\n",
        "            m = 0\n",
        "            h += 1\n",
        "\n",
        "duracion = int(input(\"Ingrese la duración en segundos: \"))\n",
        "reloj_digital(duracion)\n"
      ],
      "metadata": {
        "colab": {
          "base_uri": "https://localhost:8080/"
        },
        "id": "bxprrC23vHkc",
        "outputId": "9ed746eb-cea5-41ac-a966-869ae7b01295"
      },
      "execution_count": 7,
      "outputs": [
        {
          "output_type": "stream",
          "name": "stdout",
          "text": [
            "Ingrese la duración en segundos: 3\n",
            "00:00:00\n",
            "00:00:01\n",
            "00:00:02\n"
          ]
        }
      ]
    }
  ]
}