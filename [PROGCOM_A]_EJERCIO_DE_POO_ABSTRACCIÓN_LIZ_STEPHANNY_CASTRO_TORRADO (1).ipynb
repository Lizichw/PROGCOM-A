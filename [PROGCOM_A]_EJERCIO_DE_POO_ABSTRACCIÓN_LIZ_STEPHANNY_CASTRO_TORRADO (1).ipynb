{
  "nbformat": 4,
  "nbformat_minor": 0,
  "metadata": {
    "colab": {
      "provenance": []
    },
    "kernelspec": {
      "name": "python3",
      "display_name": "Python 3"
    },
    "language_info": {
      "name": "python"
    }
  },
  "cells": [
    {
      "cell_type": "markdown",
      "source": [
        "Desarrollar un sistema que indique 'm' personas, a cuántas se les dará el crédito o no. El sisrtema deberá generar un aviso indicando si la persona puede obtener crédito (esto es cuando se obtiene una puntuación mayor o igual a 6 puntos) De cada persona debe evaluar:\n",
        "\n"
      ],
      "metadata": {
        "id": "lypfXN7ecJhW"
      }
    },
    {
      "cell_type": "code",
      "source": [
        "\n",
        "from abc import ABC, abstractmethod\n",
        "\n",
        "\n",
        "class Evaluador(ABC):\n",
        "    @abstractmethod\n",
        "    def evaluar(self, persona):\n",
        "        pass\n",
        "\n",
        "\n",
        "class Persona:\n",
        "    def __init__(self, tarjetas_otros, no_riesgo, laborando_definido, laborando_indefinido,\n",
        "                 credito_otra_banco, credito_mismo_banco, edad):\n",
        "        self.tarjetas_otros = tarjetas_otros\n",
        "        self.no_riesgo = no_riesgo\n",
        "        self.laborando_definido = laborando_definido\n",
        "        self.laborando_indefinido = laborando_indefinido\n",
        "        self.credito_otra_banco = credito_otra_banco\n",
        "        self.credito_mismo_banco = credito_mismo_banco\n",
        "        self.edad = edad\n",
        "\n",
        "\n",
        "class SistemaCredito(Evaluador):\n",
        "    def evaluar(self, persona):\n",
        "        puntos = 0\n",
        "\n",
        "\n",
        "        if persona.tarjetas_otros:\n",
        "            puntos += 1\n",
        "        if persona.no_riesgo:\n",
        "            puntos += 3\n",
        "        if persona.laborando_definido:\n",
        "            puntos += 2\n",
        "        if persona.laborando_indefinido:\n",
        "            puntos += 3\n",
        "        if persona.credito_otra_banco:\n",
        "            puntos += 2\n",
        "        if persona.credito_mismo_banco:\n",
        "            puntos += 3\n",
        "        if 18 <= persona.edad <= 22:\n",
        "            puntos += 1\n",
        "        elif 23 <= persona.edad <= 30:\n",
        "            puntos += 4\n",
        "        elif 31 <= persona.edad <= 40:\n",
        "            puntos += 3\n",
        "        elif persona.edad > 41:\n",
        "            puntos += 1\n",
        "\n",
        "        return puntos >= 6\n",
        "\n",
        "\n",
        "personas = [\n",
        "    Persona(True, True, False, True, False, True, 25),\n",
        "    Persona(False, False, True, False, False, False, 20),\n",
        "    Persona(False, True, False, False, True, True, 45),\n",
        "]\n",
        "\n",
        "sistema = SistemaCredito()\n",
        "aprobados = 0\n",
        "\n",
        "for persona in personas:\n",
        "    if sistema.evaluar(persona):\n",
        "        aprobados += 1\n",
        "\n",
        "print(f\"Se otorgará crédito a {aprobados} personas de {len(personas)} evaluadas.\")\n"
      ],
      "metadata": {
        "colab": {
          "base_uri": "https://localhost:8080/"
        },
        "id": "txj7-89GhZxD",
        "outputId": "463ba54c-34e4-49ae-fe51-10b140b3474f"
      },
      "execution_count": 16,
      "outputs": [
        {
          "output_type": "stream",
          "name": "stdout",
          "text": [
            "Se otorgará crédito a 2 personas de 3 evaluadas.\n"
          ]
        }
      ]
    }
  ]
}